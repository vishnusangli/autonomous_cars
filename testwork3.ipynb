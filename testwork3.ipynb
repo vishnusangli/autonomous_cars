{
 "metadata": {
  "language_info": {
   "codemirror_mode": {
    "name": "ipython",
    "version": 3
   },
   "file_extension": ".py",
   "mimetype": "text/x-python",
   "name": "python",
   "nbconvert_exporter": "python",
   "pygments_lexer": "ipython3",
   "version": "3.8.0"
  },
  "orig_nbformat": 2,
  "kernelspec": {
   "name": "python380jvsc74a57bd0082e9a3bcad0a290d0001e938aa60b99250c6c2ef33a923c00b70f9826caf4b7",
   "display_name": "Python 3.8.0 64-bit ('3.8')"
  }
 },
 "nbformat": 4,
 "nbformat_minor": 2,
 "cells": [
  {
   "cell_type": "code",
   "execution_count": null,
   "metadata": {},
   "outputs": [],
   "source": [
    "f = open('./tracks/first.txt', 'r')\n",
    "for line in f:\n",
    "    print(line)"
   ]
  },
  {
   "cell_type": "code",
   "execution_count": null,
   "metadata": {},
   "outputs": [],
   "source": [
    "str_use = [['start', [0, 0], [0, 0]], ['start', [0, 0], [0, 0]]]"
   ]
  },
  {
   "cell_type": "code",
   "execution_count": null,
   "metadata": {},
   "outputs": [],
   "source": [
    "f = open('test.txt', 'w')\n",
    "f.write()\n",
    "for elem in str_use:\n",
    "    f.write(elem[0] + \", \")\n",
    "    f.write(str(elem[1][0]) + \", \" + str(elem[1][1]) + \", \")\n",
    "    f.write(str(elem[2][0]) + \", \" + str(elem[2][1]))\n",
    "    f.write(\"\\n\")\n",
    "f.close()"
   ]
  },
  {
   "cell_type": "code",
   "execution_count": null,
   "metadata": {},
   "outputs": [],
   "source": [
    "f = open('test.txt', 'r')\n",
    "for line in f:\n",
    "    newline = line.strip().split(\", \")\n",
    "    for elem in range(1, 5):\n",
    "        newline[elem] = float(newline[elem])\n",
    "    print(newline)"
   ]
  },
  {
   "cell_type": "code",
   "execution_count": null,
   "metadata": {},
   "outputs": [],
   "source": [
    "\n"
   ]
  },
  {
   "cell_type": "code",
   "execution_count": null,
   "metadata": {},
   "outputs": [],
   "source": [
    "from env import *\n",
    "grid = gridEngine(960, 540)\n",
    "first = StartingStrip(Point(0, 0), Point(10, 10))\n",
    "print(grid.grid_search(first.funcs[0]))"
   ]
  },
  {
   "cell_type": "code",
   "execution_count": null,
   "metadata": {},
   "outputs": [],
   "source": [
    "first.funcs[0].lims"
   ]
  },
  {
   "cell_type": "code",
   "execution_count": null,
   "metadata": {},
   "outputs": [],
   "source": [
    "mak = \"[2, [3,3] 4]\"\n",
    "mak.strip()\n",
    "mak[1:-1]\n",
    "\n"
   ]
  },
  {
   "cell_type": "code",
   "execution_count": null,
   "metadata": {},
   "outputs": [],
   "source": [
    "from env import *\n",
    "from car import *\n",
    "\n",
    "from engine import *\n",
    "track = Track('tracks/first.txt')\n",
    "car = Thing([164, 133], [5, 3], 0.4787)\n",
    "track.checkCollision(car.funcs)"
   ]
  },
  {
   "cell_type": "code",
   "execution_count": null,
   "metadata": {},
   "outputs": [],
   "source": [
    "ls = []\n",
    "def make(ls):\n",
    "    def give():\n",
    "        \n",
    "        return ls\n",
    "    return give\n"
   ]
  },
  {
   "cell_type": "code",
   "execution_count": null,
   "metadata": {},
   "outputs": [],
   "source": [
    "use = make(ls)"
   ]
  },
  {
   "cell_type": "code",
   "execution_count": null,
   "metadata": {},
   "outputs": [],
   "source": [
    "use()"
   ]
  },
  {
   "cell_type": "code",
   "execution_count": null,
   "metadata": {},
   "outputs": [],
   "source": [
    "ls.append(2)"
   ]
  },
  {
   "cell_type": "code",
   "execution_count": null,
   "metadata": {},
   "outputs": [],
   "source": [
    "use()"
   ]
  },
  {
   "cell_type": "code",
   "execution_count": null,
   "metadata": {},
   "outputs": [],
   "source": [
    "import traceback\n",
    "import sys\n",
    "try:\n",
    "    a = 1/0\n",
    "except Exception as a:\n",
    "    traceback.print_exc()"
   ]
  },
  {
   "cell_type": "code",
   "execution_count": null,
   "metadata": {},
   "outputs": [],
   "source": [
    "from custom_io import *\n",
    "\n",
    "x = list(range(0, 100))\n",
    "write_stats([x, x], \"stats/first.txt\")"
   ]
  },
  {
   "cell_type": "code",
   "execution_count": null,
   "metadata": {},
   "outputs": [],
   "source": [
    "from custom_io import *\n",
    "read_stats(\"stats/first.txt\")"
   ]
  },
  {
   "cell_type": "code",
   "execution_count": 7,
   "metadata": {},
   "outputs": [],
   "source": [
    "import numpy as np\n",
    "import matplotlib.pyplot as plt\n",
    "import scipy as sp\n",
    "from custom_io import *"
   ]
  },
  {
   "cell_type": "code",
   "execution_count": 9,
   "metadata": {},
   "outputs": [
    {
     "output_type": "error",
     "ename": "TypeError",
     "evalue": "read_stats() takes from 1 to 2 positional arguments but 3 were given",
     "traceback": [
      "\u001b[0;31m---------------------------------------------------------------------------\u001b[0m",
      "\u001b[0;31mTypeError\u001b[0m                                 Traceback (most recent call last)",
      "\u001b[0;32m<ipython-input-9-34c45b0eb6ed>\u001b[0m in \u001b[0;36m<module>\u001b[0;34m\u001b[0m\n\u001b[0;32m----> 1\u001b[0;31m \u001b[0mread_stats\u001b[0m\u001b[0;34m(\u001b[0m\u001b[0;34m\"logs/1x9-trial5/1620405842.csv\"\u001b[0m\u001b[0;34m,\u001b[0m \u001b[0;32mTrue\u001b[0m\u001b[0;34m,\u001b[0m \u001b[0;34m\",\"\u001b[0m\u001b[0;34m)\u001b[0m\u001b[0;34m\u001b[0m\u001b[0;34m\u001b[0m\u001b[0m\n\u001b[0m",
      "\u001b[0;31mTypeError\u001b[0m: read_stats() takes from 1 to 2 positional arguments but 3 were given"
     ]
    }
   ],
   "source": [
    "read_stats(\"logs/1x9-trial5/1620405842.csv\", True, \",\")"
   ]
  },
  {
   "cell_type": "code",
   "execution_count": null,
   "metadata": {},
   "outputs": [],
   "source": [
    "plt.figure(figsize = (8, 8))\n",
    "plt.plot(pos_vals, use_vals, '-p')\n",
    "plt.errorbar(pos_vals, use_vals, xerr = np.ones(8) * 0.0005, yerr = errs, label = 'Data Recordings')\n",
    "plt.plot(fit_x, fit_y, color = 'green', label = 'Cubic Fit')\n",
    "plt.ylabel(r'B ($\\mu T$)')\n",
    "plt.xlabel('Distance (m)')\n",
    "plt.title(\"Magnetic Field Strength of Magnet vs. Distance\")\n",
    "plt.legend()\n",
    "plt.style.use('ggplot')\n",
    "plt.rcParams['axes.edgecolor']='#333F4B'\n",
    "plt.rcParams['axes.linewidth']=0.8\n",
    "plt.rcParams['xtick.color']='#333F4B'\n",
    "plt.rcParams['ytick.color']='#333F4B'\n",
    "plt.savefig('fig.png')\n",
    "plt.show()"
   ]
  }
 ]
}