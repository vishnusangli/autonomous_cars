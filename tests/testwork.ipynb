{
 "cells": [
  {
   "cell_type": "markdown",
   "metadata": {},
   "source": [
    "Testing a Linear Equation Solver"
   ]
  },
  {
   "cell_type": "code",
   "execution_count": 43,
   "metadata": {},
   "outputs": [
    {
     "output_type": "stream",
     "name": "stdout",
     "text": [
      "[1, 7]\n",
      "1 1.0 1\n",
      "None\n"
     ]
    }
   ],
   "source": [
    "import numpy as np\n",
    "def solve(f, g, lims, e = 1e-1):\n",
    "    check = lambda x: val(x) <= e\n",
    "    dx = 1\n",
    "    val = lambda x: abs(f(x) - g(x))\n",
    "    diff = lambda x: abs((f(x) - g(x)) - (f(x + dx) - g(x + dx)))\n",
    "    avg = lambda a, b: np.divide(a + b, 2)\n",
    "    for x in lims:\n",
    "        if check(x):\n",
    "            return x, f(x)\n",
    "    print(lims)    \n",
    "    min_x = lims[0]\n",
    "    min_diff = diff(min_x)\n",
    "    max_x = lims[1]\n",
    "    max_diff = diff(max_x)\n",
    "    \n",
    "    mid_x = avg(min_x, max_x)\n",
    "    mid_diff = diff(mid_x)\n",
    "    \n",
    "    if check(mid_x):\n",
    "        return mid_x\n",
    "    print(min_diff, mid_diff, max_diff)\n",
    "    if min_diff > mid_diff:\n",
    "        if mid_diff > max_diff:\n",
    "            return solve(f, g, [mid_x, max_x])\n",
    "        else:\n",
    "            return solve(f, g, [min_x, mid_x])\n",
    "    print(\"None\")\n",
    "    \n",
    "a = lambda x: -3 + (4 * x)\n",
    "b = lambda x: 3 * x\n",
    "\n",
    "solve(a, b, [1, 7])\n",
    "    \n",
    "    "
   ]
  },
  {
   "cell_type": "code",
   "execution_count": 4,
   "metadata": {},
   "outputs": [
    {
     "output_type": "stream",
     "name": "stdout",
     "text": [
      "[  -0.6        -243.92284499]\n",
      "/Users/vishnusangli/opt/anaconda3/envs/jupyterlab/lib/python3.8/site-packages/scipy/optimize/minpack.py:175: RuntimeWarning: The iteration is not making good progress, as measured by the \n",
      "  improvement from the last ten iterations.\n",
      "  warnings.warn(msg, RuntimeWarning)\n"
     ]
    }
   ],
   "source": [
    "import numpy as np\n",
    "from scipy.optimize import fsolve\n",
    "def func(z):\n",
    "    x = z[0]\n",
    "    \n",
    "    F = np.zeros(2)\n",
    "    F[0] = 2 * x\n",
    "    F[1] = x + 3\n",
    "    return F\n",
    "zGuess = np.array([1, 1])\n",
    "z = fsolve(func,zGuess)\n",
    "print(z)\n",
    "        "
   ]
  },
  {
   "cell_type": "markdown",
   "metadata": {},
   "source": [
    "## Intersection Solver\n",
    "funcsolve() finds the first intersection between two functions in a given x-range\n",
    "The intersection is dteremined with an inequality limit being less than e = 1e-4"
   ]
  },
  {
   "cell_type": "code",
   "execution_count": 8,
   "metadata": {},
   "outputs": [],
   "source": [
    "exists = lambda x: x >= -np.inf\n",
    "import numpy as np\n",
    "def funcsolve(f, g, lims, e = 1e-4, step = 0.2, min_step = 0.001):\n",
    "    diff = lambda x: np.power(f(x) - g(x), 2)\n",
    "    deriv = lambda f, x: np.divide(f(x) - f(x - step), step) #Backward differentiation\n",
    "    \n",
    "    def is_converging(x):\n",
    "        f_val = f(x)\n",
    "        f_deriv = deriv(f, x)\n",
    "        \n",
    "        g_val = g(x)\n",
    "        g_deriv = deriv(g, x)\n",
    "        \n",
    "        #If two lines can converge\n",
    "        if f_val > g_val:\n",
    "            return g_deriv > f_deriv\n",
    "        elif f_val < g_val:\n",
    "            return f_deriv > g_deriv\n",
    "        else: #Solution found\n",
    "            return True\n",
    "    def could_converge(lim):\n",
    "        '''\n",
    "        Does the inequality check\n",
    "        Needn't worry about equality in either case as would've been checked already\n",
    "        '''\n",
    "        start = f(lim[0]) < g(lim[0])\n",
    "        end = f(lim[1]) < g(lim[1])\n",
    "        return start ^ end\n",
    "    \n",
    "    x = lims[0]\n",
    "    prevDiff = diff(x) if exists(f(x)) and exists(g(x)) else np.inf\n",
    "    \n",
    "    prev = True #Will increase runtime for faulty ones, but setting initial True will ignore certain cases\n",
    "    prev_existx = x\n",
    "    #Prioritizing correctness over efficiency\n",
    "    while x <= lims[1]:\n",
    "        '''\n",
    "        Has converging switched from True to Negative\n",
    "        '''\n",
    "        if exists(f(x)) and exists(g(x)):\n",
    "\n",
    "            if diff(x) <= e: #Base condition\n",
    "                return x, True\n",
    "\n",
    "            curr = is_converging(x)\n",
    "            prev_existx = x\n",
    "            if prev and not curr: #Was converging and is not now\n",
    "                pot_lim = [x - step, x]\n",
    "                if could_converge(pot_lim) and step >= min_step: #Could it have converged; include a lower limit on the step\n",
    "                    return funcsolve(f, g, pot_lim, step = np.divide(step, 10))#Recursive call with smaller range and step\n",
    "            prev = curr\n",
    "        x += step\n",
    "    return prev_existx, False\n"
   ]
  },
  {
   "cell_type": "code",
   "execution_count": 6,
   "metadata": {},
   "outputs": [],
   "source": [
    "a = 1/0 if 0 else 0"
   ]
  },
  {
   "cell_type": "code",
   "execution_count": 9,
   "metadata": {},
   "outputs": [
    {
     "output_type": "execute_result",
     "data": {
      "text/plain": [
       "(9.999999999999996, False)"
      ]
     },
     "metadata": {},
     "execution_count": 9
    }
   ],
   "source": [
    "def f(x):\n",
    "    return  2* x\n",
    "\n",
    "def g(x):\n",
    "    return 3*x\n",
    "\n",
    "funcsolve(f, g, [1, 10])"
   ]
  },
  {
   "cell_type": "markdown",
   "metadata": {},
   "source": [
    "## Starter Code for the circle fucntion format\n",
    "Main issue when useing regular methods is the avoidance of other x-vals in a range that are outside the circle.\n",
    "These functions must be used as a single var function, not numpy list-functions. \n",
    "\n",
    "np.Nan is curious in it's inequalities, so the only way to check is if it's greater than -np.inf. Any valid number returns True, but np.NaN returns false"
   ]
  },
  {
   "cell_type": "code",
   "execution_count": 5,
   "metadata": {},
   "outputs": [
    {
     "output_type": "stream",
     "name": "stdout",
     "text": [
      "False\nFalse\nFalse\nFalse\n"
     ]
    }
   ],
   "source": [
    "print(np.NaN == np.NaN)\n",
    "print(np.NaN > np.NaN)\n",
    "print(np.NaN > np.NaN)\n",
    "print(np.NaN > -np.inf)"
   ]
  },
  {
   "cell_type": "code",
   "execution_count": 7,
   "metadata": {},
   "outputs": [
    {
     "output_type": "display_data",
     "data": {
      "text/plain": "<Figure size 576x576 with 1 Axes>",
      "image/svg+xml": "<?xml version=\"1.0\" encoding=\"utf-8\" standalone=\"no\"?>\n<!DOCTYPE svg PUBLIC \"-//W3C//DTD SVG 1.1//EN\"\n  \"http://www.w3.org/Graphics/SVG/1.1/DTD/svg11.dtd\">\n<!-- Created with matplotlib (https://matplotlib.org/) -->\n<svg height=\"465.958125pt\" version=\"1.1\" viewBox=\"0 0 482.542187 465.958125\" width=\"482.542187pt\" xmlns=\"http://www.w3.org/2000/svg\" xmlns:xlink=\"http://www.w3.org/1999/xlink\">\n <metadata>\n  <rdf:RDF xmlns:cc=\"http://creativecommons.org/ns#\" xmlns:dc=\"http://purl.org/dc/elements/1.1/\" xmlns:rdf=\"http://www.w3.org/1999/02/22-rdf-syntax-ns#\">\n   <cc:Work>\n    <dc:type rdf:resource=\"http://purl.org/dc/dcmitype/StillImage\"/>\n    <dc:date>2021-04-16T15:31:29.146876</dc:date>\n    <dc:format>image/svg+xml</dc:format>\n    <dc:creator>\n     <cc:Agent>\n      <dc:title>Matplotlib v3.3.4, https://matplotlib.org/</dc:title>\n     </cc:Agent>\n    </dc:creator>\n   </cc:Work>\n  </rdf:RDF>\n </metadata>\n <defs>\n  <style type=\"text/css\">*{stroke-linecap:butt;stroke-linejoin:round;}</style>\n </defs>\n <g id=\"figure_1\">\n  <g id=\"patch_1\">\n   <path d=\"M 0 465.958125 \nL 482.542187 465.958125 \nL 482.542187 0 \nL 0 0 \nz\n\" style=\"fill:none;\"/>\n  </g>\n  <g id=\"axes_1\">\n   <g id=\"patch_2\">\n    <path d=\"M 28.942188 442.08 \nL 475.342187 442.08 \nL 475.342187 7.2 \nL 28.942188 7.2 \nz\n\" style=\"fill:#ffffff;\"/>\n   </g>\n   <g id=\"matplotlib.axis_1\">\n    <g id=\"xtick_1\">\n     <g id=\"line2d_1\">\n      <defs>\n       <path d=\"M 0 0 \nL 0 3.5 \n\" id=\"m425f705f02\" style=\"stroke:#000000;stroke-width:0.8;\"/>\n      </defs>\n      <g>\n       <use style=\"stroke:#000000;stroke-width:0.8;\" x=\"49.233097\" xlink:href=\"#m425f705f02\" y=\"442.08\"/>\n      </g>\n     </g>\n     <g id=\"text_1\">\n      <!-- −3 -->\n      <g transform=\"translate(41.862003 456.678437)scale(0.1 -0.1)\">\n       <defs>\n        <path d=\"M 10.59375 35.5 \nL 73.1875 35.5 \nL 73.1875 27.203125 \nL 10.59375 27.203125 \nz\n\" id=\"DejaVuSans-8722\"/>\n        <path d=\"M 40.578125 39.3125 \nQ 47.65625 37.796875 51.625 33 \nQ 55.609375 28.21875 55.609375 21.1875 \nQ 55.609375 10.40625 48.1875 4.484375 \nQ 40.765625 -1.421875 27.09375 -1.421875 \nQ 22.515625 -1.421875 17.65625 -0.515625 \nQ 12.796875 0.390625 7.625 2.203125 \nL 7.625 11.71875 \nQ 11.71875 9.328125 16.59375 8.109375 \nQ 21.484375 6.890625 26.8125 6.890625 \nQ 36.078125 6.890625 40.9375 10.546875 \nQ 45.796875 14.203125 45.796875 21.1875 \nQ 45.796875 27.640625 41.28125 31.265625 \nQ 36.765625 34.90625 28.71875 34.90625 \nL 20.21875 34.90625 \nL 20.21875 43.015625 \nL 29.109375 43.015625 \nQ 36.375 43.015625 40.234375 45.921875 \nQ 44.09375 48.828125 44.09375 54.296875 \nQ 44.09375 59.90625 40.109375 62.90625 \nQ 36.140625 65.921875 28.71875 65.921875 \nQ 24.65625 65.921875 20.015625 65.03125 \nQ 15.375 64.15625 9.8125 62.3125 \nL 9.8125 71.09375 \nQ 15.4375 72.65625 20.34375 73.4375 \nQ 25.25 74.21875 29.59375 74.21875 \nQ 40.828125 74.21875 47.359375 69.109375 \nQ 53.90625 64.015625 53.90625 55.328125 \nQ 53.90625 49.265625 50.4375 45.09375 \nQ 46.96875 40.921875 40.578125 39.3125 \nz\n\" id=\"DejaVuSans-51\"/>\n       </defs>\n       <use xlink:href=\"#DejaVuSans-8722\"/>\n       <use x=\"83.789062\" xlink:href=\"#DejaVuSans-51\"/>\n      </g>\n     </g>\n    </g>\n    <g id=\"xtick_2\">\n     <g id=\"line2d_2\">\n      <g>\n       <use style=\"stroke:#000000;stroke-width:0.8;\" x=\"116.86946\" xlink:href=\"#m425f705f02\" y=\"442.08\"/>\n      </g>\n     </g>\n     <g id=\"text_2\">\n      <!-- −2 -->\n      <g transform=\"translate(109.498366 456.678437)scale(0.1 -0.1)\">\n       <defs>\n        <path d=\"M 19.1875 8.296875 \nL 53.609375 8.296875 \nL 53.609375 0 \nL 7.328125 0 \nL 7.328125 8.296875 \nQ 12.9375 14.109375 22.625 23.890625 \nQ 32.328125 33.6875 34.8125 36.53125 \nQ 39.546875 41.84375 41.421875 45.53125 \nQ 43.3125 49.21875 43.3125 52.78125 \nQ 43.3125 58.59375 39.234375 62.25 \nQ 35.15625 65.921875 28.609375 65.921875 \nQ 23.96875 65.921875 18.8125 64.3125 \nQ 13.671875 62.703125 7.8125 59.421875 \nL 7.8125 69.390625 \nQ 13.765625 71.78125 18.9375 73 \nQ 24.125 74.21875 28.421875 74.21875 \nQ 39.75 74.21875 46.484375 68.546875 \nQ 53.21875 62.890625 53.21875 53.421875 \nQ 53.21875 48.921875 51.53125 44.890625 \nQ 49.859375 40.875 45.40625 35.40625 \nQ 44.1875 33.984375 37.640625 27.21875 \nQ 31.109375 20.453125 19.1875 8.296875 \nz\n\" id=\"DejaVuSans-50\"/>\n       </defs>\n       <use xlink:href=\"#DejaVuSans-8722\"/>\n       <use x=\"83.789062\" xlink:href=\"#DejaVuSans-50\"/>\n      </g>\n     </g>\n    </g>\n    <g id=\"xtick_3\">\n     <g id=\"line2d_3\">\n      <g>\n       <use style=\"stroke:#000000;stroke-width:0.8;\" x=\"184.505824\" xlink:href=\"#m425f705f02\" y=\"442.08\"/>\n      </g>\n     </g>\n     <g id=\"text_3\">\n      <!-- −1 -->\n      <g transform=\"translate(177.13473 456.678437)scale(0.1 -0.1)\">\n       <defs>\n        <path d=\"M 12.40625 8.296875 \nL 28.515625 8.296875 \nL 28.515625 63.921875 \nL 10.984375 60.40625 \nL 10.984375 69.390625 \nL 28.421875 72.90625 \nL 38.28125 72.90625 \nL 38.28125 8.296875 \nL 54.390625 8.296875 \nL 54.390625 0 \nL 12.40625 0 \nz\n\" id=\"DejaVuSans-49\"/>\n       </defs>\n       <use xlink:href=\"#DejaVuSans-8722\"/>\n       <use x=\"83.789062\" xlink:href=\"#DejaVuSans-49\"/>\n      </g>\n     </g>\n    </g>\n    <g id=\"xtick_4\">\n     <g id=\"line2d_4\">\n      <g>\n       <use style=\"stroke:#000000;stroke-width:0.8;\" x=\"252.142187\" xlink:href=\"#m425f705f02\" y=\"442.08\"/>\n      </g>\n     </g>\n     <g id=\"text_4\">\n      <!-- 0 -->\n      <g transform=\"translate(248.960937 456.678437)scale(0.1 -0.1)\">\n       <defs>\n        <path d=\"M 31.78125 66.40625 \nQ 24.171875 66.40625 20.328125 58.90625 \nQ 16.5 51.421875 16.5 36.375 \nQ 16.5 21.390625 20.328125 13.890625 \nQ 24.171875 6.390625 31.78125 6.390625 \nQ 39.453125 6.390625 43.28125 13.890625 \nQ 47.125 21.390625 47.125 36.375 \nQ 47.125 51.421875 43.28125 58.90625 \nQ 39.453125 66.40625 31.78125 66.40625 \nz\nM 31.78125 74.21875 \nQ 44.046875 74.21875 50.515625 64.515625 \nQ 56.984375 54.828125 56.984375 36.375 \nQ 56.984375 17.96875 50.515625 8.265625 \nQ 44.046875 -1.421875 31.78125 -1.421875 \nQ 19.53125 -1.421875 13.0625 8.265625 \nQ 6.59375 17.96875 6.59375 36.375 \nQ 6.59375 54.828125 13.0625 64.515625 \nQ 19.53125 74.21875 31.78125 74.21875 \nz\n\" id=\"DejaVuSans-48\"/>\n       </defs>\n       <use xlink:href=\"#DejaVuSans-48\"/>\n      </g>\n     </g>\n    </g>\n    <g id=\"xtick_5\">\n     <g id=\"line2d_5\">\n      <g>\n       <use style=\"stroke:#000000;stroke-width:0.8;\" x=\"319.778551\" xlink:href=\"#m425f705f02\" y=\"442.08\"/>\n      </g>\n     </g>\n     <g id=\"text_5\">\n      <!-- 1 -->\n      <g transform=\"translate(316.597301 456.678437)scale(0.1 -0.1)\">\n       <use xlink:href=\"#DejaVuSans-49\"/>\n      </g>\n     </g>\n    </g>\n    <g id=\"xtick_6\">\n     <g id=\"line2d_6\">\n      <g>\n       <use style=\"stroke:#000000;stroke-width:0.8;\" x=\"387.414915\" xlink:href=\"#m425f705f02\" y=\"442.08\"/>\n      </g>\n     </g>\n     <g id=\"text_6\">\n      <!-- 2 -->\n      <g transform=\"translate(384.233665 456.678437)scale(0.1 -0.1)\">\n       <use xlink:href=\"#DejaVuSans-50\"/>\n      </g>\n     </g>\n    </g>\n    <g id=\"xtick_7\">\n     <g id=\"line2d_7\">\n      <g>\n       <use style=\"stroke:#000000;stroke-width:0.8;\" x=\"455.051278\" xlink:href=\"#m425f705f02\" y=\"442.08\"/>\n      </g>\n     </g>\n     <g id=\"text_7\">\n      <!-- 3 -->\n      <g transform=\"translate(451.870028 456.678437)scale(0.1 -0.1)\">\n       <use xlink:href=\"#DejaVuSans-51\"/>\n      </g>\n     </g>\n    </g>\n   </g>\n   <g id=\"matplotlib.axis_2\">\n    <g id=\"ytick_1\">\n     <g id=\"line2d_8\">\n      <defs>\n       <path d=\"M 0 0 \nL -3.5 0 \n\" id=\"mbde9d53dc0\" style=\"stroke:#000000;stroke-width:0.8;\"/>\n      </defs>\n      <g>\n       <use style=\"stroke:#000000;stroke-width:0.8;\" x=\"28.942188\" xlink:href=\"#mbde9d53dc0\" y=\"422.312727\"/>\n      </g>\n     </g>\n     <g id=\"text_8\">\n      <!-- −6 -->\n      <g transform=\"translate(7.2 426.111946)scale(0.1 -0.1)\">\n       <defs>\n        <path d=\"M 33.015625 40.375 \nQ 26.375 40.375 22.484375 35.828125 \nQ 18.609375 31.296875 18.609375 23.390625 \nQ 18.609375 15.53125 22.484375 10.953125 \nQ 26.375 6.390625 33.015625 6.390625 \nQ 39.65625 6.390625 43.53125 10.953125 \nQ 47.40625 15.53125 47.40625 23.390625 \nQ 47.40625 31.296875 43.53125 35.828125 \nQ 39.65625 40.375 33.015625 40.375 \nz\nM 52.59375 71.296875 \nL 52.59375 62.3125 \nQ 48.875 64.0625 45.09375 64.984375 \nQ 41.3125 65.921875 37.59375 65.921875 \nQ 27.828125 65.921875 22.671875 59.328125 \nQ 17.53125 52.734375 16.796875 39.40625 \nQ 19.671875 43.65625 24.015625 45.921875 \nQ 28.375 48.1875 33.59375 48.1875 \nQ 44.578125 48.1875 50.953125 41.515625 \nQ 57.328125 34.859375 57.328125 23.390625 \nQ 57.328125 12.15625 50.6875 5.359375 \nQ 44.046875 -1.421875 33.015625 -1.421875 \nQ 20.359375 -1.421875 13.671875 8.265625 \nQ 6.984375 17.96875 6.984375 36.375 \nQ 6.984375 53.65625 15.1875 63.9375 \nQ 23.390625 74.21875 37.203125 74.21875 \nQ 40.921875 74.21875 44.703125 73.484375 \nQ 48.484375 72.75 52.59375 71.296875 \nz\n\" id=\"DejaVuSans-54\"/>\n       </defs>\n       <use xlink:href=\"#DejaVuSans-8722\"/>\n       <use x=\"83.789062\" xlink:href=\"#DejaVuSans-54\"/>\n      </g>\n     </g>\n    </g>\n    <g id=\"ytick_2\">\n     <g id=\"line2d_9\">\n      <g>\n       <use style=\"stroke:#000000;stroke-width:0.8;\" x=\"28.942188\" xlink:href=\"#mbde9d53dc0\" y=\"356.421818\"/>\n      </g>\n     </g>\n     <g id=\"text_9\">\n      <!-- −4 -->\n      <g transform=\"translate(7.2 360.221037)scale(0.1 -0.1)\">\n       <defs>\n        <path d=\"M 37.796875 64.3125 \nL 12.890625 25.390625 \nL 37.796875 25.390625 \nz\nM 35.203125 72.90625 \nL 47.609375 72.90625 \nL 47.609375 25.390625 \nL 58.015625 25.390625 \nL 58.015625 17.1875 \nL 47.609375 17.1875 \nL 47.609375 0 \nL 37.796875 0 \nL 37.796875 17.1875 \nL 4.890625 17.1875 \nL 4.890625 26.703125 \nz\n\" id=\"DejaVuSans-52\"/>\n       </defs>\n       <use xlink:href=\"#DejaVuSans-8722\"/>\n       <use x=\"83.789062\" xlink:href=\"#DejaVuSans-52\"/>\n      </g>\n     </g>\n    </g>\n    <g id=\"ytick_3\">\n     <g id=\"line2d_10\">\n      <g>\n       <use style=\"stroke:#000000;stroke-width:0.8;\" x=\"28.942188\" xlink:href=\"#mbde9d53dc0\" y=\"290.530909\"/>\n      </g>\n     </g>\n     <g id=\"text_10\">\n      <!-- −2 -->\n      <g transform=\"translate(7.2 294.330128)scale(0.1 -0.1)\">\n       <use xlink:href=\"#DejaVuSans-8722\"/>\n       <use x=\"83.789062\" xlink:href=\"#DejaVuSans-50\"/>\n      </g>\n     </g>\n    </g>\n    <g id=\"ytick_4\">\n     <g id=\"line2d_11\">\n      <g>\n       <use style=\"stroke:#000000;stroke-width:0.8;\" x=\"28.942188\" xlink:href=\"#mbde9d53dc0\" y=\"224.64\"/>\n      </g>\n     </g>\n     <g id=\"text_11\">\n      <!-- 0 -->\n      <g transform=\"translate(15.579688 228.439219)scale(0.1 -0.1)\">\n       <use xlink:href=\"#DejaVuSans-48\"/>\n      </g>\n     </g>\n    </g>\n    <g id=\"ytick_5\">\n     <g id=\"line2d_12\">\n      <g>\n       <use style=\"stroke:#000000;stroke-width:0.8;\" x=\"28.942188\" xlink:href=\"#mbde9d53dc0\" y=\"158.749091\"/>\n      </g>\n     </g>\n     <g id=\"text_12\">\n      <!-- 2 -->\n      <g transform=\"translate(15.579688 162.54831)scale(0.1 -0.1)\">\n       <use xlink:href=\"#DejaVuSans-50\"/>\n      </g>\n     </g>\n    </g>\n    <g id=\"ytick_6\">\n     <g id=\"line2d_13\">\n      <g>\n       <use style=\"stroke:#000000;stroke-width:0.8;\" x=\"28.942188\" xlink:href=\"#mbde9d53dc0\" y=\"92.858182\"/>\n      </g>\n     </g>\n     <g id=\"text_13\">\n      <!-- 4 -->\n      <g transform=\"translate(15.579688 96.657401)scale(0.1 -0.1)\">\n       <use xlink:href=\"#DejaVuSans-52\"/>\n      </g>\n     </g>\n    </g>\n    <g id=\"ytick_7\">\n     <g id=\"line2d_14\">\n      <g>\n       <use style=\"stroke:#000000;stroke-width:0.8;\" x=\"28.942188\" xlink:href=\"#mbde9d53dc0\" y=\"26.967273\"/>\n      </g>\n     </g>\n     <g id=\"text_14\">\n      <!-- 6 -->\n      <g transform=\"translate(15.579688 30.766491)scale(0.1 -0.1)\">\n       <use xlink:href=\"#DejaVuSans-54\"/>\n      </g>\n     </g>\n    </g>\n   </g>\n   <g id=\"line2d_15\">\n    <path clip-path=\"url(#pf5ac388ba3)\" d=\"M 49.233097 224.64 \nL 49.639321 218.389043 \nL 50.45177 213.823878 \nL 51.264219 210.690474 \nL 52.482892 207.021737 \nL 53.701565 204.012049 \nL 55.326463 200.600555 \nL 57.357585 196.952254 \nL 59.388707 193.763309 \nL 61.826053 190.363238 \nL 64.669624 186.827555 \nL 67.513195 183.642091 \nL 70.76299 180.333773 \nL 74.41901 176.947849 \nL 78.481254 173.520408 \nL 82.543498 170.380866 \nL 87.011966 167.203649 \nL 91.886659 164.015988 \nL 97.167577 160.841536 \nL 102.854718 157.701222 \nL 108.54186 154.811581 \nL 114.635226 151.959783 \nL 121.134816 149.164881 \nL 128.040631 146.444804 \nL 135.352671 143.816703 \nL 142.66471 141.423709 \nL 150.382974 139.13105 \nL 158.507462 136.956306 \nL 166.63195 135.008769 \nL 175.162663 133.192524 \nL 183.693375 131.597045 \nL 192.630312 130.150211 \nL 201.567249 128.922974 \nL 210.91041 127.8657 \nL 220.253572 127.031816 \nL 229.596733 126.415632 \nL 239.346119 126.000366 \nL 249.095504 125.814778 \nL 258.84489 125.857575 \nL 268.594276 126.129054 \nL 278.343662 126.631115 \nL 287.686823 127.331915 \nL 297.029984 128.252441 \nL 306.373146 129.399062 \nL 315.310083 130.715014 \nL 324.24702 132.254559 \nL 332.777732 133.943146 \nL 341.308445 135.85804 \nL 349.432933 137.905844 \nL 357.557421 140.188421 \nL 365.275685 142.592151 \nL 372.587724 145.099957 \nL 379.493539 147.694538 \nL 386.399354 150.532244 \nL 392.898944 153.45112 \nL 398.99231 156.434031 \nL 404.679452 159.462735 \nL 409.960369 162.517455 \nL 414.835062 165.576372 \nL 419.709755 168.903677 \nL 424.178224 172.233047 \nL 428.240468 175.53858 \nL 431.896487 178.789493 \nL 435.146283 181.94853 \nL 438.396078 185.424663 \nL 441.239649 188.798648 \nL 443.676995 192.013544 \nL 446.114341 195.630524 \nL 448.145464 199.074077 \nL 449.770361 202.237762 \nL 451.395259 205.962441 \nL 452.613932 209.366748 \nL 453.426381 212.15689 \nL 454.23883 215.804241 \nL 454.645054 218.389043 \nL 455.051278 224.64 \nL 455.051278 224.64 \n\" style=\"fill:none;stroke:#1f77b4;stroke-linecap:square;stroke-width:1.5;\"/>\n   </g>\n   <g id=\"line2d_16\">\n    <path clip-path=\"url(#pf5ac388ba3)\" d=\"M 49.233097 224.64 \nL 49.639321 230.890957 \nL 50.45177 235.456122 \nL 51.264219 238.589526 \nL 52.482892 242.258263 \nL 53.701565 245.267951 \nL 55.326463 248.679445 \nL 57.357585 252.327746 \nL 59.388707 255.516691 \nL 61.826053 258.916762 \nL 64.669624 262.452445 \nL 67.513195 265.637909 \nL 70.76299 268.946227 \nL 74.41901 272.332151 \nL 78.481254 275.759592 \nL 82.543498 278.899134 \nL 87.011966 282.076351 \nL 91.886659 285.264012 \nL 97.167577 288.438464 \nL 102.854718 291.578778 \nL 108.54186 294.468419 \nL 114.635226 297.320217 \nL 121.134816 300.115119 \nL 128.040631 302.835196 \nL 135.352671 305.463297 \nL 142.66471 307.856291 \nL 150.382974 310.14895 \nL 158.507462 312.323694 \nL 166.63195 314.271231 \nL 175.162663 316.087476 \nL 183.693375 317.682955 \nL 192.630312 319.129789 \nL 201.567249 320.357026 \nL 210.91041 321.4143 \nL 220.253572 322.248184 \nL 229.596733 322.864368 \nL 239.346119 323.279634 \nL 249.095504 323.465222 \nL 258.84489 323.422425 \nL 268.594276 323.150946 \nL 278.343662 322.648885 \nL 287.686823 321.948085 \nL 297.029984 321.027559 \nL 306.373146 319.880938 \nL 315.310083 318.564986 \nL 324.24702 317.025441 \nL 332.777732 315.336854 \nL 341.308445 313.42196 \nL 349.432933 311.374156 \nL 357.557421 309.091579 \nL 365.275685 306.687849 \nL 372.587724 304.180043 \nL 379.493539 301.585462 \nL 386.399354 298.747756 \nL 392.898944 295.82888 \nL 398.99231 292.845969 \nL 404.679452 289.817265 \nL 409.960369 286.762545 \nL 414.835062 283.703628 \nL 419.709755 280.376323 \nL 424.178224 277.046953 \nL 428.240468 273.74142 \nL 431.896487 270.490507 \nL 435.146283 267.33147 \nL 438.396078 263.855337 \nL 441.239649 260.481352 \nL 443.676995 257.266456 \nL 446.114341 253.649476 \nL 448.145464 250.205923 \nL 449.770361 247.042238 \nL 451.395259 243.317559 \nL 452.613932 239.913252 \nL 453.426381 237.12311 \nL 454.23883 233.475759 \nL 454.645054 230.890957 \nL 455.051278 224.64 \nL 455.051278 224.64 \n\" style=\"fill:none;stroke:#ff7f0e;stroke-linecap:square;stroke-width:1.5;\"/>\n   </g>\n   <g id=\"line2d_17\">\n    <path clip-path=\"url(#pf5ac388ba3)\" d=\"M 49.233097 422.312727 \nL 455.051278 26.967273 \nL 455.051278 26.967273 \n\" style=\"fill:none;stroke:#2ca02c;stroke-linecap:square;stroke-width:1.5;\"/>\n   </g>\n   <g id=\"line2d_18\">\n    <defs>\n     <path d=\"M 0 -3 \nL -2.85317 -0.927051 \nL -1.763356 2.427051 \nL 1.763356 2.427051 \nL 2.85317 -0.927051 \nz\n\" id=\"mf60f1b55d7\" style=\"stroke:#d62728;stroke-linejoin:miter;\"/>\n    </defs>\n    <g clip-path=\"url(#pf5ac388ba3)\">\n     <use style=\"fill:#d62728;stroke:#d62728;stroke-linejoin:miter;\" x=\"342.774915\" xlink:href=\"#mf60f1b55d7\" y=\"136.346182\"/>\n    </g>\n   </g>\n   <g id=\"patch_3\">\n    <path d=\"M 28.942188 442.08 \nL 28.942188 7.2 \n\" style=\"fill:none;stroke:#000000;stroke-linecap:square;stroke-linejoin:miter;stroke-width:0.8;\"/>\n   </g>\n   <g id=\"patch_4\">\n    <path d=\"M 475.342187 442.08 \nL 475.342187 7.2 \n\" style=\"fill:none;stroke:#000000;stroke-linecap:square;stroke-linejoin:miter;stroke-width:0.8;\"/>\n   </g>\n   <g id=\"patch_5\">\n    <path d=\"M 28.942187 442.08 \nL 475.342187 442.08 \n\" style=\"fill:none;stroke:#000000;stroke-linecap:square;stroke-linejoin:miter;stroke-width:0.8;\"/>\n   </g>\n   <g id=\"patch_6\">\n    <path d=\"M 28.942187 7.2 \nL 475.342187 7.2 \n\" style=\"fill:none;stroke:#000000;stroke-linecap:square;stroke-linejoin:miter;stroke-width:0.8;\"/>\n   </g>\n  </g>\n </g>\n <defs>\n  <clipPath id=\"pf5ac388ba3\">\n   <rect height=\"434.88\" width=\"446.4\" x=\"28.942188\" y=\"7.2\"/>\n  </clipPath>\n </defs>\n</svg>\n",
      "image/png": "[encoded data removed]"
     },
     "metadata": {
      "needs_background": "light"
     }
    },
    {
     "output_type": "execute_result",
     "data": {
      "text/plain": [
       "(0, False)"
      ]
     },
     "metadata": {},
     "execution_count": 7
    }
   ],
   "source": [
    "import matplotlib.pyplot as plt\n",
    "import numpy as np\n",
    "def circle(anchor, radius):\n",
    "    def give(x):\n",
    "        val = radius**2 - np.power(x - anchor[0], 2)\n",
    "        if val < 0:\n",
    "            return np.NaN\n",
    "        return np.sqrt(val) + anchor[1]\n",
    "    return give\n",
    "\n",
    "func = circle([0, 0], 3)\n",
    "x = np.linspace(-3, 3, 1000)\n",
    "y = [func(a) for a in x]\n",
    "y2 = [-func(a) for a in x]\n",
    "plt.figure(figsize = (8, 8))\n",
    "plt.plot(x, y)\n",
    "plt.plot(x, y2)\n",
    "plt.plot(x, f(x))\n",
    "plt.plot(1.34, f(1.34), 'p')\n",
    "plt.show()\n",
    "funcsolve(f, func, [-10, 10])\n",
    "#Need to give the stepper x vals to include both min and max"
   ]
  },
  {
   "cell_type": "code",
   "execution_count": 14,
   "metadata": {},
   "outputs": [],
   "source": [
    "def circ_func(anchor, radius, startPhi, endPhi, upper = True):\n",
    "    '''\n",
    "    Right now this function does not support lower semicircle\n",
    "    Need to add it\n",
    "    '''\n",
    "    startPhi = rad_reduce(startPhi)\n",
    "    endPhi = rad_reduce(endPhi)\n",
    "    if upper:\n",
    "        assert startPhi >= 0 and endPhi >= 0, \"Circle angles need to be of same semicircle type\"\n",
    "    else:\n",
    "        assert startPhi <= 0 and endPhi <= 0, \"Circle angles need to be of same semicircle type\"\n",
    "    def return_func(x):\n",
    "        val = radius**2 - np.power(x - anchor.xPos, 2)\n",
    "        if val < 0:\n",
    "            return np.NaN\n",
    "        \n",
    "        val = np.sqrt(val)\n",
    "        if not upper:\n",
    "            val = - val\n",
    "        y = val + anchor.yPos\n",
    "        angle = anchor.angle(Point(x, y))\n",
    "        #print(angle, Point(x, y))\n",
    "        if startPhi <= angle <= endPhi:\n",
    "            return y\n",
    "        else:\n",
    "            return np.NaN\n",
    "\n",
    "    return return_func\n",
    "\n",
    "use = circ_func(Point(0, 0), 1, - np.pi/2, 0, False)\n"
   ]
  },
  {
   "cell_type": "code",
   "execution_count": 15,
   "metadata": {},
   "outputs": [
    {
     "output_type": "execute_result",
     "data": {
      "text/plain": [
       "-0.8"
      ]
     },
     "metadata": {},
     "execution_count": 15
    }
   ],
   "source": [
    "use(0.6)"
   ]
  },
  {
   "cell_type": "markdown",
   "metadata": {},
   "source": [
    "## Function that breaks a function and range into the grids it passes through"
   ]
  },
  {
   "cell_type": "code",
   "execution_count": 16,
   "metadata": {},
   "outputs": [],
   "source": [
    "def gridgive(f, lims, e = 1e-4, deriv_diff = 1e-2):\n",
    "    is_adj = lambda a, b: abs(a[0] - b[0]) + abs(a[1] - b[1]) == 1\n",
    "    deriv = lambda f, x, diff: np.divide(f(x + diff) - f(x), diff)\n",
    "    \n",
    "    def tending_to(f, start, end):\n",
    "        '''\n",
    "        does point 1 seem to lead to point 2?\n",
    "        involves point1 + (delta x * deriv)\n",
    "        '''\n",
    "        d = deriv(f, start.xPos, deriv_diff)\n",
    "        pred_val = start.yPos + (d * deriv_diff)\n",
    "        return int(pred_val) == int(end.yPos)\n",
    "    \n",
    "    def connect():\n",
    "        '''\n",
    "        given two boxes, connect all in between\n",
    "        '''\n",
    "        \n",
    "        pass\n",
    "    x = int(lims[0])\n",
    "    y = f(lims[0])\n",
    "    prev =  [int(x), int(y)]\n",
    "    grids = [prev]\n",
    "    x += 1\n",
    "    while x < lims[1]:\n",
    "        y = f(x)\n",
    "        curr = [x, int(y)]\n",
    "        grids.append(curr)\n",
    "        if not is_adj(prev, curr):\n",
    "            begin = [x - 1, int(y)]\n",
    "            \n",
    "        \n",
    "        if not is_adj(prev, curr) or not tending_to():\n",
    "            continue\n",
    "        \n",
    "        \n",
    "        x += 1\n",
    "        "
   ]
  },
  {
   "cell_type": "code",
   "execution_count": 17,
   "metadata": {},
   "outputs": [],
   "source": [
    "def grids_trial(f, lims):\n",
    "    y = f(lims[0])\n",
    "    x = int(lims[0])\n",
    "    \n",
    "    prev = [x, int(y)]\n",
    "    grids = [prev]\n",
    "    \n",
    "    x += 1\n",
    "    run = True\n",
    "    while run:\n",
    "        if x > lims[1]:\n",
    "            x = lims[1]\n",
    "            run = False\n",
    "        \n",
    "        y = f(x)\n",
    "        if y > - np.inf:\n",
    "            #print(type(y))\n",
    "            y = int(y)\n",
    "            curr = [x, y]\n",
    "            grids.append(curr)\n",
    "            if curr[1] != prev[1]: #Same row, adjacent\n",
    "                loop_use = [x - 1, y]\n",
    "                grids.append(loop_use)\n",
    "                if loop_use[1] > prev[1]:\n",
    "                    for m in range(prev[1], loop_use[1]):\n",
    "                        grids.append([loop_use[0], m])\n",
    "                else:\n",
    "                    for m in range(prev[1], loop_use[1], -1):\n",
    "                        grids.append([loop_use[0], m])\n",
    "\n",
    "            #Add all 4\n",
    "            prev = curr\n",
    "        x += 1\n",
    "    return grids\n",
    "        "
   ]
  },
  {
   "cell_type": "code",
   "execution_count": 12,
   "metadata": {},
   "outputs": [
    {
     "output_type": "error",
     "ename": "NameError",
     "evalue": "name 'circle' is not defined",
     "traceback": [
      "\u001b[0;31m---------------------------------------------------------------------------\u001b[0m",
      "\u001b[0;31mNameError\u001b[0m                                 Traceback (most recent call last)",
      "\u001b[0;32m<ipython-input-12-52433dd82de6>\u001b[0m in \u001b[0;36m<module>\u001b[0;34m\u001b[0m\n\u001b[1;32m      3\u001b[0m \u001b[0;34m\u001b[0m\u001b[0m\n\u001b[1;32m      4\u001b[0m \u001b[0;34m\u001b[0m\u001b[0m\n\u001b[0;32m----> 5\u001b[0;31m \u001b[0muse\u001b[0m \u001b[0;34m=\u001b[0m \u001b[0mcircle\u001b[0m\u001b[0;34m(\u001b[0m\u001b[0;34m[\u001b[0m\u001b[0;36m0\u001b[0m\u001b[0;34m,\u001b[0m \u001b[0;36m0\u001b[0m\u001b[0;34m]\u001b[0m\u001b[0;34m,\u001b[0m \u001b[0;36m10\u001b[0m\u001b[0;34m)\u001b[0m\u001b[0;34m\u001b[0m\u001b[0;34m\u001b[0m\u001b[0m\n\u001b[0m\u001b[1;32m      6\u001b[0m \u001b[0mmake\u001b[0m \u001b[0;34m=\u001b[0m \u001b[0muse\u001b[0m\u001b[0;34m\u001b[0m\u001b[0;34m\u001b[0m\u001b[0m\n\u001b[1;32m      7\u001b[0m \u001b[0mlims\u001b[0m \u001b[0;34m=\u001b[0m \u001b[0;34m[\u001b[0m\u001b[0;36m0\u001b[0m\u001b[0;34m,\u001b[0m \u001b[0;36m20\u001b[0m\u001b[0;34m]\u001b[0m\u001b[0;34m\u001b[0m\u001b[0;34m\u001b[0m\u001b[0m\n",
      "\u001b[0;31mNameError\u001b[0m: name 'circle' is not defined"
     ]
    }
   ],
   "source": [
    "def f(x):\n",
    "    return  2*x\n",
    "\n",
    "\n",
    "use = circle([0, 0], 10)\n",
    "make = use\n",
    "lims = [0, 20]\n",
    "vals = grids_trial(make, lims)\n",
    "print(vals)\n",
    "\n",
    "x = np.linspace(lims[0], lims[1], 100)\n",
    "y = np.array([make(a) for a in x])\n",
    "\n",
    "\n",
    "plt.figure(figsize = (10, 10))\n",
    "plt.plot(x, y, '-r')\n",
    "x_axis = np.arange(0, max(x) + 1, 1)\n",
    "y_axis = np.arange(0, max(y) + 1, 1)\n",
    "for x in vals:\n",
    "    plt.plot(x[0], x[1], 'pb')\n",
    "plt.xticks(x_axis)\n",
    "plt.yticks(y_axis)\n",
    "plt.grid()\n",
    "plt.show()\n",
    "\n",
    "'''\n",
    "Implement the tending to function\n",
    "reformat to use point\n",
    "create the Grid Data Structure and use that\n",
    "'''"
   ]
  },
  {
   "cell_type": "code",
   "execution_count": null,
   "metadata": {},
   "outputs": [],
   "source": [
    "funcsolve(f, func, [0, 10])"
   ]
  },
  {
   "cell_type": "code",
   "execution_count": 11,
   "metadata": {},
   "outputs": [
    {
     "output_type": "error",
     "ename": "SyntaxError",
     "evalue": "invalid syntax (<ipython-input-11-8540df8586be>, line 67)",
     "traceback": [
      "\u001b[0;36m  File \u001b[0;32m\"<ipython-input-11-8540df8586be>\"\u001b[0;36m, line \u001b[0;32m67\u001b[0m\n\u001b[0;31m    def track_obs\u001b[0m\n\u001b[0m                 ^\u001b[0m\n\u001b[0;31mSyntaxError\u001b[0m\u001b[0;31m:\u001b[0m invalid syntax\n"
     ]
    }
   ],
   "source": [
    "class gridEngine:\n",
    "    def __init__(self, height, width):\n",
    "        self.height = height\n",
    "        self.width = width\n",
    "        self.grid = self.make_grid()\n",
    "        \n",
    "    def make_grid(self):\n",
    "        main = []\n",
    "        for x in range(width):\n",
    "            row = []\n",
    "            for y in range(height):\n",
    "                row.append([])\n",
    "            main.append(row)\n",
    "    \n",
    "    def access(self, x, y):\n",
    "        assert x < width, \"Invalid grid width\"\n",
    "        assert y < height, \"invalid grid height\"\n",
    "        \n",
    "        to_return = self.grid[x][y]\n",
    "        return to_return\n",
    "    \n",
    "    def add_to(self, x, y, elem):\n",
    "        loc = self.access(x, y)\n",
    "        if not elem in loc:\n",
    "            loc.append(elem)\n",
    "\n",
    "    def grid_search(mainfunc, lims):\n",
    "        '''\n",
    "        The grid search, but altered to incorporate a list-based mainfunc\n",
    "        '''\n",
    "        y = mainfunc(lims[0])\n",
    "        x = int(lims[0])\n",
    "\n",
    "        prev = [x, int(y)]\n",
    "        grids = [prev]\n",
    "        potential = self.check_box(mainfunc, x, int(y))\n",
    "        if potential < np.inf:\n",
    "            True, potential, grids\n",
    "        \n",
    "        x += 1\n",
    "        run = True\n",
    "\n",
    "        while run:\n",
    "            if x > lims[1]:\n",
    "                x = lims[1]\n",
    "                run = False\n",
    "            y = mainfunc(x)\n",
    "            if y > -np.inf:\n",
    "                red_y = int(y)\n",
    "                pots = [self.check(mainfunc, x, red_y)]\n",
    "                grids.append([x, red_y])\n",
    "                loop_x = x - 1\n",
    "                if red_y > prev[1]: #If they're not adjacent\n",
    "                    for y_use in range(prev[1], red_y, 1):\n",
    "                        pots.append([self.check(mainfunc, loop_x, y_use)])\n",
    "                        grids.append([loop_x, red_y])\n",
    "                else:\n",
    "                    for y_use in range(prev[1], red_y, -1):\n",
    "                        pots.append([self.check(mainfunc, loop_x, y_use)])\n",
    "                        grids.append([loop_x, red_y])\n",
    "                \n",
    "\n",
    "                    grids.append([loop_x, red_y])\n",
    "                prev = [x, red_y]\n",
    "                if any([a < np.inf for a in pots]):\n",
    "                    return True, min(pots), grids\n",
    "\n",
    "            x += 1\n",
    "        return False, np.inf, grids\n",
    "\n",
    "            \n",
    "\n",
    "    def check_box(self, mainfunc, x, y):\n",
    "        elems = self.access(x, y)\n",
    "        obstructs = []\n",
    "        for e in elems:\n",
    "            success, val = find_obstruct(mainfunc, e.funcs, e.lims)\n",
    "            if success:\n",
    "                obstructs.append(val)\n",
    "        if obstructs:\n",
    "            return min(obstructs)\n",
    "        else:\n",
    "            return np.inf\n",
    "\n",
    "\n",
    "    def find_obstruct(mainfunc, funcs, lims):\n",
    "        '''\n",
    "        Takes in an elemFunc\n",
    "        \n",
    "        Returns -- boolean, endPoint\n",
    "        boolean - if obstruction was found\n",
    "        enPoint - the obstruction (if found), else None\n",
    "        endPoint will be the max line of sight if no obstruction is found\n",
    "\n",
    "        with ranged elemfuncs, range is implicit, needs some way of calculation\n",
    "        TrackElems could have min_x, max_x (line elems already have as elem.points, \n",
    "        [anchor_x - rad, anchor_x + rad] for turn elems)\n",
    "        Questions: \n",
    "        - will minx, maxx be reqd or can be ooptional args?\n",
    "        - should use trackelem as arg or funcs?\n",
    "\n",
    "        With minx, maxx as inputed args, trackelem needn't be an arg\n",
    "\n",
    "        list of mainfuncs, lims - input args\n",
    "        Search through grid-method\n",
    "        if overlapping grid found: do the mainfuncs-funcs obstruction check\n",
    "        Keep empty obstructions list outside, append those found.\n",
    "        At the end of the given grid box search, check if obstruction found and follow same exit procedure\n",
    "        '''\n",
    "        obstructions = []\n",
    "        for f in funcs:\n",
    "            x_val, success = funcsolve(mainfunc, f, lims)\n",
    "            if success:\n",
    "                obstructions.append(x_val)\n",
    "        if any(obstructions):\n",
    "            xval = min(obstructions)\n",
    "            yval = mainfunc(xval)\n",
    "            assert yval > -np.inf, \"Invalid intersection result from funcsolve\"\n",
    "            return True, xval\n",
    "        else:\n",
    "            #Potential error, does mainfunc(lims[1]) exist? Must ensure\n",
    "            #Max pos here is only needed in line of sight, can just implement anglepoint_end() in the function that calls this one\n",
    "            return False, np.in\n",
    "\n",
    "    \n",
    "    def register_track(elem):\n",
    "        '''\n",
    "        Takes the walls of the track elem and returns whether it's successful\n",
    "        True - can save, no obstructions\n",
    "        False - didn't save, obstructions\n",
    "        '''\n",
    "        grids_passed = []\n",
    "        for f in elem.funcs:\n",
    "            success, inters, grids = self.grid_search(f, elem.lims):\n",
    "            if success:\n",
    "                return False\n",
    "            grids_passed += grids\n",
    "        return grids_passed\n",
    "\n",
    "        \n",
    "'''\n",
    "Inspired to write an elemFunc class, that stores some function and it's limits\n",
    "\n",
    "\n",
    "Track: interpret each track elem, register in grid engine\n",
    "track funcs \n",
    "-is_collide() - find_obstruct on all 4 sides of car\n",
    "-lineof_sight() - find_obstruct in each line, return dict with angle as key\n",
    "'''\n",
    "        "
   ]
  },
  {
   "cell_type": "code",
   "execution_count": 19,
   "metadata": {},
   "outputs": [
    {
     "output_type": "execute_result",
     "data": {
      "text/plain": [
       "[None, None, 2, 1, 2, 3]"
      ]
     },
     "metadata": {},
     "execution_count": 19
    }
   ],
   "source": [
    "a = [None, None, 2]\n",
    "b = [1, 2, 3]\n",
    "a + b"
   ]
  },
  {
   "cell_type": "code",
   "execution_count": null,
   "metadata": {},
   "outputs": [],
   "source": [
    "a = [1, 2, 3]\n",
    "not 1 in a"
   ]
  },
  {
   "cell_type": "markdown",
   "metadata": {},
   "source": [
    "## Solving the circle characteristcs along with defining the Point system"
   ]
  },
  {
   "cell_type": "code",
   "execution_count": 8,
   "metadata": {},
   "outputs": [],
   "source": [
    "\n",
    "class Point:\n",
    "    '''\n",
    "    API used for reference points in track elements\n",
    "    Standard --- Angle Radian System\n",
    "    '''\n",
    "    def __init__(self, xPos, yPos, dir = None) -> None:\n",
    "        self.xPos = xPos\n",
    "        self.yPos = yPos\n",
    "\n",
    "        self.dirVec = dir #Directional vector of movement & following track creation\n",
    "\n",
    "\n",
    "    def angle(self, other):\n",
    "        '''\n",
    "        Common format to return in Radians\n",
    "        '''\n",
    "        d = np.inf\n",
    "        if other.xPos - self.xPos != 0:\n",
    "            d = np.divide(other.yPos - self.yPos, other.xPos - self.xPos)\n",
    "        angle = np.arctan(d) \n",
    "    \n",
    "        if (angle < 0 and self.yPos < other.yPos):\n",
    "            \n",
    "            angle += np.pi\n",
    "        elif d == np.inf and self.yPos > other.yPos:\n",
    "            \n",
    "            angle = -np.pi/2\n",
    "        \n",
    "        elif angle > 0 and self.yPos > other.yPos:\n",
    "            \n",
    "            angle = np.pi - angle\n",
    "        elif angle == 0 and self.xPos > other.xPos:\n",
    "            \n",
    "            angle = np.pi\n",
    "            \n",
    "        \n",
    "    \n",
    "        return angle\n",
    "\n",
    "    \n",
    "    def distance(self, other):\n",
    "        '''\n",
    "        Returns distance to another point\n",
    "        '''\n",
    "        delt_y = np.power(other.yPos - self.yPos, 2)\n",
    "        delt_x = np.power(other.xPos - self.xPos, 2)\n",
    "        to_return = np.sqrt(delt_x + delt_y)\n",
    "        return to_return\n",
    "    \n",
    "    def __str__(self):\n",
    "        return 'Point[{0:4.4f}, {1:4.4f}]|'.format(self.xPos, self.yPos) + str(self.dirVec)\n",
    "    \n",
    "    def __repr__(self):\n",
    "        return 'Point[{0:4.4f}, {1:4.4f}]|'.format(self.xPos, self.yPos) + str(self.dirVec)\n",
    "\n",
    "def rad_reduce(x):\n",
    "    if x < 0:\n",
    "        x = (2 * np.pi) + x\n",
    "        \n",
    "    while x > 2 * np.pi:\n",
    "        x -= 2 * np.pi\n",
    "    \n",
    "    if x > np.pi:\n",
    "        x -= 2 * np.pi\n",
    "    \n",
    "    return x\n",
    "\n",
    "def frame_angle(lims, theta):\n",
    "    theta = rad_reduce(theta)\n",
    "    \n",
    "    '''\n",
    "    If a valid angle is give, only 1 while loop would be used\n",
    "    If invalid angle is given, first loop runs until overshot, after which second doesn't, returning \n",
    "    an angle that is beyond range\n",
    "    '''\n",
    "    while theta < lims[0]:\n",
    "        theta += (2 * np.pi)\n",
    "        \n",
    "    while theta > lims[1]:\n",
    "        theta -= (2 * np.pi)\n",
    "    \n",
    "    if lims[0] <= theta <= lims[1]:\n",
    "        return theta\n",
    "    else:\n",
    "        print(lims, theta)\n",
    "        return None\n",
    "\n",
    "\n",
    "def get_angle(start, end):\n",
    "    d = np.divide(end[1] - start[1], end[0] - start[0])\n",
    "    angle = np.arctan(d) \n",
    "    \n",
    "    if (angle < 0 and start[1] < end[1]):\n",
    "        angle += np.pi\n",
    "        \n",
    "    elif angle > 0 and start[1] > end[1]:\n",
    "        angle = np.pi - angle\n",
    "    \n",
    "    return angle\n",
    "\n",
    "def get_distance(start, end):\n",
    "    distance = np.sqrt(np.power(start[1] - end[1], 2) + np.power(start[0] - end[0], 2))\n",
    "    return distance\n",
    "    \n",
    "    \n",
    "def turnCalc(start, end):\n",
    "    '''\n",
    "    return anchor, angle, and rotation angle\n",
    "    Next stage -- radius changing with track width\n",
    "    '''\n",
    "    halfpi = np.pi/2\n",
    "    deriv = rad_reduce(start.dirVec)\n",
    "    \n",
    "    \n",
    "    angle = start.angle(end)\n",
    "\n",
    "    angle = frame_angle([deriv - halfpi, deriv + halfpi], angle) \n",
    "\n",
    "    if angle == None:\n",
    "        return\n",
    "    #Now both angles are in radians\n",
    "    standard = deriv - halfpi\n",
    "    if deriv < angle:\n",
    "        standard = deriv + halfpi\n",
    "    distance = start.distance(end)\n",
    "    theta = angle - standard\n",
    "    radius = np.divide(distance, 2 * np.cos(theta))\n",
    "    phi = np.pi - (2 * abs(rad_reduce(theta)))\n",
    "    \n",
    "    anchor = Point(start.xPos + (radius * np.cos(standard)), start.xPos + (radius * np.sin(standard)))\n",
    "    print([anchor.angle(start), anchor.angle(end)])\n",
    "    rotate = min([anchor.angle(start), anchor.angle(end)])\n",
    "\n",
    "    return anchor, radius, phi, rotate"
   ]
  },
  {
   "cell_type": "code",
   "execution_count": 9,
   "metadata": {},
   "outputs": [
    {
     "output_type": "stream",
     "name": "stdout",
     "text": [
      "[3.141592653589793, 1.6472617796660995]\n"
     ]
    },
    {
     "output_type": "execute_result",
     "data": {
      "text/plain": [
       "(Point[290.5568, 100.0000]|None,\n",
       " 190.55681818181816,\n",
       " 1.4943308739236933,\n",
       " 1.6472617796660995)"
      ]
     },
     "metadata": {},
     "execution_count": 9
    }
   ],
   "source": [
    "start = Point(100, 100, np.pi/2)\n",
    "end = Point(276, 290)\n",
    "deriv = 90\n",
    "\n",
    "turnCalc(start, end)"
   ]
  },
  {
   "cell_type": "code",
   "execution_count": 10,
   "metadata": {},
   "outputs": [
    {
     "output_type": "execute_result",
     "data": {
      "text/plain": [
       "-1.5707963267948966"
      ]
     },
     "metadata": {},
     "execution_count": 10
    }
   ],
   "source": [
    "start = Point(0, 0)\n",
    "end = Point(0, -1)\n",
    "start.angle(end)"
   ]
  },
  {
   "cell_type": "code",
   "execution_count": 11,
   "metadata": {
    "collapsed": true,
    "jupyter": {
     "outputs_hidden": true,
     "source_hidden": true
    }
   },
   "outputs": [
    {
     "output_type": "stream",
     "name": "stdout",
     "text": [
      "[-4.887077390886317, 2.553467541171079] 7.5196818634744895 2.510469731405888 3.2486519944776986\n[2.687416808413017, -4.682290493636447] 6.320456137775382 2.1162701456458533 2.909663434678761\n[-8.238155646724504, -9.966478920803404] 2.6177423382628127 2.8215506314507457 2.087649294342123\n[0.7541325382069335, 5.929190694107465] 6.223338374905077 0.37882529863533165 0.03848283050318225\n[-9.050123042503449, -2.815013622719203] 3.2295089054752055 2.3852717541274386 5.24763065772443\n[3.7252245289525217, 9.08810735774313] 1.008508338054201 0.14282450824567172 0.6180906943583213\n[-3.754745575058185, -9.640340484466183] 1.0417960477991381 2.0660890562030114 0.5315100793368414\n[1.8876996491042792, -0.018559365328762567] 0.8304111195682182 3.0851448478100476 1.4458371743573026\n[3.6151447619391135, -6.521274903580776] 2.449378726660316 0.7690131713745606 3.8151643212789055\n[3.6556226492041297, -3.7361573761488494] 6.095617166384243 1.0747176376840255 1.9267375491896923\n[-7.098338029817479, 7.112122547594414] 2.005844454422073 2.9364855954428593 4.37228758704009\n[-8.49983598456566, -3.3208636391273716] 4.936461991798508 1.3155200139546959 4.6242714535345515\n[-4.817489389713097, -8.644917977245889] 5.660366596069722 1.0013023794629634 6.134791040586093\n[-2.7759781631721587, 3.020259564185439] 5.132641087683629 2.469823640710534 1.2588999788331074\n[-4.688633255995123, 5.046899489663559] 4.956797633926565 0.43814724322160137 5.5004679579524005\n[3.2356737908309228, -8.647624780286199] 4.632110234694856 1.9358530997288357 3.250594451079869\n[5.416272274986671, 9.782367624441516] 4.976591094237432 2.6482407319519314 2.6375283847452553\n[2.4050189989948976, 2.612089215183291] 5.857180205857202 2.984367698536846 4.097587904740179\n[7.609148003726062, -5.276364242427221] 2.5216403114741905 3.020189305208977 4.363323564958251\n[6.629577079788216, 5.867186503024868] 2.155569017384435 2.62042074132252 2.9315570503189443\n[0.06424109239484466, -5.765147961087839] 7.792441112102227 2.8583040781877034 1.8721085836479376\n[3.7319509622008606, -2.0381143579075545] 3.276054949717337 1.9502111978865657 5.077815697869871\n[-4.992736029570157, 7.194923974152864] 7.678262039935188 0.16903971361683484 5.8705140807102545\n[-4.269259864810319, -0.13811765879543003] 3.061361177452555 2.231246699277817 6.046876573477318\n[9.390370176648492, -6.181099948508722] 1.6899602032991075 0.5978978932809174 6.014886046310017\n[0.4861029695674475, -6.979272520114732] 5.334054636556664 0.3834381026786994 1.4060345277850292\n[-9.618788192899338, -4.204424056690355] 3.764705585652063 2.11294409438426 3.6861904790188675\n[-6.440615968016974, -6.112398631427172] 2.2600609722021514 1.2421028080593353 2.0055041261860613\n[6.587164214476399, 4.721288772825105] 6.556311027584651 1.1029528937095852 4.964714846782334\n[6.7769273090184825, -1.9808613971136317] 6.353266574406248 1.0485347405657302 4.837296207171471\n[-3.1483187537286916, 9.57741251093233] 5.556029033874633 2.994445005412302 1.1384869916223193\n[-7.352679898175478, -8.485093319807094] 2.0116622681225245 2.5650014551179665 0.7820903438963933\n[2.0593393871127255, -9.87648473174211] 6.383126061964755 2.3318747990825055 5.670902293515062\n[-2.4222994254448142, 8.77351878261361] 7.262785443681777 0.4241495762618466 2.9101191190268607\n[-4.86499827375078, -4.522196114637467] 7.741024977232646 0.2751486094211363 3.8253093294306053\n[-0.23644803999736297, -8.998841564376324] 4.6127802274222915 2.701062227886782 4.5249080579433505\n[2.2400181389757474, 8.404837163768317] 7.326405524931915 0.8029489304375097 0.44888720030713447\n[0.3692541121788473, 9.656193483563758] 6.705171109501451 2.156528022629933 2.201478991237942\n[-0.8244108691626995, 7.869747502032666] 2.723784105144219 0.632195967269296 2.214572685437795\n[3.2176866891619955, -9.269168852577188] 4.211626078694959 1.5149318864208663 1.9284477561442346\n[-9.018479063163124, 9.886643162395863] 1.527342132347448 2.381461710444263 4.570180291216477\n[7.6315315017300165, 3.7982329913158868] 3.1315681260857335 1.0277234519872367 2.407483084200698\n[8.98590880848029, 2.7112528749035185] 6.154542420616761 3.050665930318487 1.5112739440103875\n[-3.825297870766895, -8.012029453692062] 6.025527383133277 0.8165033727136723 4.382286833838553\n[-2.6741721005891, -9.218613695105022] 7.0888612349664 2.076548199659386 2.8595048417277598\n[-9.304694104676262, -6.821956724366441] 1.6216953928306574 2.191747478281403 1.9169361933764466\n[5.014522162755055, -0.6761983153949878] 7.403187512555368 1.3169514863905125 5.620064523672096\n[6.3535891439671985, 3.9995190848848807] 4.033629869192785 1.0195788582370278 3.719896345906533\n[-3.428357565077005, 6.298288193916182] 0.7615932363914503 0.30276952364260423 2.0714808007742573\n[-3.1762116706936894, 0.6115675960759521] 6.259298716223615 0.8693125274585244 2.926711007713372\n[-8.414311213808457, 6.967636221864385] 2.34089534207412 1.4917098328908873 6.030671016508008\n[-4.832758630399381, -8.6522182296663] 4.0953893530400745 0.5056446019478313 4.507927727115133\n[3.5842959891404664, 6.6410152950694865] 4.404469127241131 0.5133953589867449 1.2296211749344204\n[-3.286554980513692, 9.927544498260023] 6.311428951579545 1.2561435771208285 5.529020664171622\n[3.3472222863438876, 3.4445837661951195] 0.6723906154233537 1.4711620804490213 2.77944789364335\n[-2.0094065865963024, -0.6035863598309792] 6.978811031404075 0.16094562571679652 0.5614324497113474\n[4.216963527071284, -5.578506080269223] 0.871163811143215 1.3242200343161104 3.1848209761630466\n[5.3718362697892275, 6.043191161945021] 7.802666313611937 0.9218296476221842 2.4250877752143025\n[3.6899969683996847, -7.783371162327068] 0.6461759359221191 1.9161460750074757 4.938106464652028\n[-4.905534547778448, 1.5534391078278418] 3.3774560898928376 1.0783966646995655 0.9486245468957359\n[-7.707418109351398, -4.561764604828625] 3.644892561500239 3.0577116100104753 5.418125988746969\n[1.2999869946898173, -0.243385375417839] 4.731813760193067 2.2295186055344587 4.790885489105727\n[-0.025418849877256733, 1.4298427141233816] 5.748244104428696 2.245752440651045 3.390074068957935\n[-6.9045933687637255, 9.139294886664981] 1.5029844295853727 1.913915708586776 4.508972351751805\n[9.01323986078155, 3.905960393737173] 5.6120877397024795 2.9859207153594904 0.7465848153210642\n[6.45646169754805, 6.704920984221978] 4.75655118086854 1.2502114115608505 0.9975432945887439\n[-2.8704351808614987, -7.94543710434507] 1.8599918510515798 0.36946686315379307 0.46935599361884095\n[-3.1962852794092296, 2.722020154132741] 3.754873559659416 3.0440462231236607 1.7563354823053465\n[5.679704856849101, 4.078048015994437] 3.17352405662078 0.9443207901971868 1.5073718613848104\n[-4.4126875184908165, 5.912680139018352] 0.945387313028238 2.159250750574944 3.930965030989898\n[7.174069240304846, -4.727691908198706] 1.0547073317363216 1.4748636018714343 5.960198399381741\n[2.3030133058419047, -5.600186355861647] 1.7233708472162483 1.922796648551629 5.577380126460485\n[7.768244918146113, 9.305009988218853] 6.52837122991173 0.7458256854078361 0.48929604647297964\n[-0.49798781079754484, 0.8649050122939901] 7.71948102419914 0.856081923708179 4.8606060213249185\n[1.4776759691174028, 5.337333401145408] 0.9537076873322579 2.155849183239023 4.069485182300261\n[-0.5596892173542329, -4.53967938186053] 2.927830288402437 2.574768143453502 4.535178878628538\n[5.458312302286972, 0.267642765428608] 6.076654189691582 0.9212076619447671 4.662727455645404\n[-0.7819548809260048, -8.585292546738529] 2.26477433753215 2.343441059990355 4.55803979534828\n[-0.6960086484370098, -6.842913873394016] 3.3066086087430873 2.7956217228161355 3.9326585263088316\n[-9.463911724330455, 7.280591924884032] 6.5363850487348945 2.1530209225460157 2.1945982803287687\n[6.362311030127948, 0.07641487848347239] 1.8129286591932665 1.7040352928964582 2.6399697959076316\n[7.641668059180361, -6.393357601030784] 1.360276246150753 2.390693764613907 1.8076008845882092\n[2.446212954420835, 1.9600825927109167] 2.028077710563413 2.5092060675615513 5.371913344923378\n[0.2925239199253902, -7.24655046501484] 6.355183653165872 0.15166957517317153 4.833437718278922\n[-4.960560225201716, 4.3073228863717095] 7.72419974210657 1.213740307754823 3.8475964918977414\n[-2.0404192599552466, 7.09801297629123] 2.699628514689988 2.6853133737015944 5.971385516940357\n[-3.32859896350032, 6.354689347888051] 7.078585562129326 1.9692385339836416 2.0511413742570195\n[2.2754840215107137, -6.293579222474788] 5.656491170757769 2.909626230598677 3.3613326919124162\n[3.0402927575389427, -6.834688397790694] 6.681092215772552 3.0577691556388764 3.341636263955412\n[-7.300786246501807, -5.733663698477969] 6.386808438500158 3.099685919513556 0.5975282854126543\n[0.9685022891733297, -7.609285930149305] 3.850074081602001 1.7221616834353828 0.8815637731112111\n[-0.03882818703361224, 1.167336968299173] 4.996256423722587 2.3141487635474633 2.24513195077833\n[-3.1544269154143194, -2.7093958670239937] 2.322803285680731 2.550663247524476 4.24618409433241\n[-2.0479845976062183, -8.497889179874111] 2.0300577384488077 2.7682682259872506 1.0823948549574354\n[-9.384580871138555, 3.794160854391702] 4.89987955344377 1.3238411926895919 2.3177248010878206\n[-3.7120179824385113, -3.411925262195316] 5.559333215703391 2.005468734764343 4.366521557525282\n[-1.3735792213459614, 2.4457855594467475] 2.62540891021378 0.27801157093143447 4.879463033566312\n[0.3163648525833942, -2.3699923551202833] 4.072425833170003 1.8442357341748987 4.104859223658607\n[-0.8338147829903324, -9.557499266449856] 4.459678535905582 1.9137801577889075 1.758138928945208\n[0.8119979445512513, 3.481214953658963] 3.6087925130039777 1.7702224323324622 5.766195322195802\n"
     ]
    }
   ],
   "source": [
    "'''\n",
    "Vars to get -- \n",
    "'''\n",
    "gen = lambda a, b: (np.random.random() * (b-a)) + a\n",
    "for x in range(100):\n",
    "    pos = [gen(-10, 10), gen(-10, 10)]\n",
    "    radius = gen(0.5, 8)\n",
    "    phi = gen(0.1, np.pi)\n",
    "    rotate = gen(0, 2 * np.pi)\n",
    "    \n",
    "    start = [radius * np.cos(rotate), radius * np.sin(rotate)]\n",
    "    end = [radius * np.cos(rotate + phi), radius * np.sin(rotate + phi)]\n",
    "    \n",
    "    print(pos, radius, phi, rotate)"
   ]
  },
  {
   "cell_type": "code",
   "execution_count": 12,
   "metadata": {},
   "outputs": [],
   "source": [
    "rad_deg = lambda x: x * (180./np.pi)\n",
    "deg_rad = lambda x: x * (np.pi/180.)"
   ]
  },
  {
   "cell_type": "markdown",
   "metadata": {},
   "source": [
    "## Starter Logic for the Line Element Track wireFrame"
   ]
  },
  {
   "cell_type": "code",
   "execution_count": 13,
   "metadata": {},
   "outputs": [
    {
     "output_type": "stream",
     "name": "stdout",
     "text": [
      "Point[0.0000, 0.0000]|1.5707963267948966\n0.0\n"
     ]
    },
    {
     "output_type": "display_data",
     "data": {
      "text/plain": "<Figure size 576x576 with 1 Axes>",
      "image/svg+xml": "<?xml version=\"1.0\" encoding=\"utf-8\" standalone=\"no\"?>\n<!DOCTYPE svg PUBLIC \"-//W3C//DTD SVG 1.1//EN\"\n  \"http://www.w3.org/Graphics/SVG/1.1/DTD/svg11.dtd\">\n<!-- Created with matplotlib (https://matplotlib.org/) -->\n<svg height=\"465.958125pt\" version=\"1.1\" viewBox=\"0 0 483.703125 465.958125\" width=\"483.703125pt\" xmlns=\"http://www.w3.org/2000/svg\" xmlns:xlink=\"http://www.w3.org/1999/xlink\">\n <metadata>\n  <rdf:RDF xmlns:cc=\"http://creativecommons.org/ns#\" xmlns:dc=\"http://purl.org/dc/elements/1.1/\" xmlns:rdf=\"http://www.w3.org/1999/02/22-rdf-syntax-ns#\">\n   <cc:Work>\n    <dc:type rdf:resource=\"http://purl.org/dc/dcmitype/StillImage\"/>\n    <dc:date>2021-04-16T15:20:47.125056</dc:date>\n    <dc:format>image/svg+xml</dc:format>\n    <dc:creator>\n     <cc:Agent>\n      <dc:title>Matplotlib v3.3.4, https://matplotlib.org/</dc:title>\n     </cc:Agent>\n    </dc:creator>\n   </cc:Work>\n  </rdf:RDF>\n </metadata>\n <defs>\n  <style type=\"text/css\">*{stroke-linecap:butt;stroke-linejoin:round;}</style>\n </defs>\n <g id=\"figure_1\">\n  <g id=\"patch_1\">\n   <path d=\"M 0 465.958125 \nL 483.703125 465.958125 \nL 483.703125 0 \nL 0 0 \nz\n\"/>\n  </g>\n  <g id=\"axes_1\">\n   <g id=\"patch_2\">\n    <path d=\"M 30.103125 442.08 \nL 476.503125 442.08 \nL 476.503125 7.2 \nL 30.103125 7.2 \nz\n\"/>\n   </g>\n   <g id=\"matplotlib.axis_1\">\n    <g id=\"xtick_1\">\n     <g id=\"line2d_1\">\n      <path clip-path=\"url(#pdee4a41451)\" d=\"M 50.394034 442.08 \nL 50.394034 7.2 \n\" style=\"fill:none;stroke:#ffffff;stroke-linecap:square;stroke-width:0.8;\"/>\n     </g>\n     <g id=\"line2d_2\">\n      <defs>\n       <path d=\"M 0 0 \nL 0 3.5 \n\" id=\"ma2f2df531c\" style=\"stroke:#ffffff;stroke-width:0.8;\"/>\n      </defs>\n      <g>\n       <use style=\"fill:#ffffff;stroke:#ffffff;stroke-width:0.8;\" x=\"50.394034\" xlink:href=\"#ma2f2df531c\" y=\"442.08\"/>\n      </g>\n     </g>\n     <g id=\"text_1\">\n      <!-- −1.0 -->\n      <g style=\"fill:#ffffff;\" transform=\"translate(38.252628 456.678437)scale(0.1 -0.1)\">\n       <defs>\n        <path d=\"M 10.59375 35.5 \nL 73.1875 35.5 \nL 73.1875 27.203125 \nL 10.59375 27.203125 \nz\n\" id=\"DejaVuSans-8722\"/>\n        <path d=\"M 12.40625 8.296875 \nL 28.515625 8.296875 \nL 28.515625 63.921875 \nL 10.984375 60.40625 \nL 10.984375 69.390625 \nL 28.421875 72.90625 \nL 38.28125 72.90625 \nL 38.28125 8.296875 \nL 54.390625 8.296875 \nL 54.390625 0 \nL 12.40625 0 \nz\n\" id=\"DejaVuSans-49\"/>\n        <path d=\"M 10.6875 12.40625 \nL 21 12.40625 \nL 21 0 \nL 10.6875 0 \nz\n\" id=\"DejaVuSans-46\"/>\n        <path d=\"M 31.78125 66.40625 \nQ 24.171875 66.40625 20.328125 58.90625 \nQ 16.5 51.421875 16.5 36.375 \nQ 16.5 21.390625 20.328125 13.890625 \nQ 24.171875 6.390625 31.78125 6.390625 \nQ 39.453125 6.390625 43.28125 13.890625 \nQ 47.125 21.390625 47.125 36.375 \nQ 47.125 51.421875 43.28125 58.90625 \nQ 39.453125 66.40625 31.78125 66.40625 \nz\nM 31.78125 74.21875 \nQ 44.046875 74.21875 50.515625 64.515625 \nQ 56.984375 54.828125 56.984375 36.375 \nQ 56.984375 17.96875 50.515625 8.265625 \nQ 44.046875 -1.421875 31.78125 -1.421875 \nQ 19.53125 -1.421875 13.0625 8.265625 \nQ 6.59375 17.96875 6.59375 36.375 \nQ 6.59375 54.828125 13.0625 64.515625 \nQ 19.53125 74.21875 31.78125 74.21875 \nz\n\" id=\"DejaVuSans-48\"/>\n       </defs>\n       <use xlink:href=\"#DejaVuSans-8722\"/>\n       <use x=\"83.789062\" xlink:href=\"#DejaVuSans-49\"/>\n       <use x=\"147.412109\" xlink:href=\"#DejaVuSans-46\"/>\n       <use x=\"179.199219\" xlink:href=\"#DejaVuSans-48\"/>\n      </g>\n     </g>\n    </g>\n    <g id=\"xtick_2\">\n     <g id=\"line2d_3\">\n      <path clip-path=\"url(#pdee4a41451)\" d=\"M 118.030398 442.08 \nL 118.030398 7.2 \n\" style=\"fill:none;stroke:#ffffff;stroke-linecap:square;stroke-width:0.8;\"/>\n     </g>\n     <g id=\"line2d_4\">\n      <g>\n       <use style=\"fill:#ffffff;stroke:#ffffff;stroke-width:0.8;\" x=\"118.030398\" xlink:href=\"#ma2f2df531c\" y=\"442.08\"/>\n      </g>\n     </g>\n     <g id=\"text_2\">\n      <!-- −0.5 -->\n      <g style=\"fill:#ffffff;\" transform=\"translate(105.888991 456.678437)scale(0.1 -0.1)\">\n       <defs>\n        <path d=\"M 10.796875 72.90625 \nL 49.515625 72.90625 \nL 49.515625 64.59375 \nL 19.828125 64.59375 \nL 19.828125 46.734375 \nQ 21.96875 47.46875 24.109375 47.828125 \nQ 26.265625 48.1875 28.421875 48.1875 \nQ 40.625 48.1875 47.75 41.5 \nQ 54.890625 34.8125 54.890625 23.390625 \nQ 54.890625 11.625 47.5625 5.09375 \nQ 40.234375 -1.421875 26.90625 -1.421875 \nQ 22.3125 -1.421875 17.546875 -0.640625 \nQ 12.796875 0.140625 7.71875 1.703125 \nL 7.71875 11.625 \nQ 12.109375 9.234375 16.796875 8.0625 \nQ 21.484375 6.890625 26.703125 6.890625 \nQ 35.15625 6.890625 40.078125 11.328125 \nQ 45.015625 15.765625 45.015625 23.390625 \nQ 45.015625 31 40.078125 35.4375 \nQ 35.15625 39.890625 26.703125 39.890625 \nQ 22.75 39.890625 18.8125 39.015625 \nQ 14.890625 38.140625 10.796875 36.28125 \nz\n\" id=\"DejaVuSans-53\"/>\n       </defs>\n       <use xlink:href=\"#DejaVuSans-8722\"/>\n       <use x=\"83.789062\" xlink:href=\"#DejaVuSans-48\"/>\n       <use x=\"147.412109\" xlink:href=\"#DejaVuSans-46\"/>\n       <use x=\"179.199219\" xlink:href=\"#DejaVuSans-53\"/>\n      </g>\n     </g>\n    </g>\n    <g id=\"xtick_3\">\n     <g id=\"line2d_5\">\n      <path clip-path=\"url(#pdee4a41451)\" d=\"M 185.666761 442.08 \nL 185.666761 7.2 \n\" style=\"fill:none;stroke:#ffffff;stroke-linecap:square;stroke-width:0.8;\"/>\n     </g>\n     <g id=\"line2d_6\">\n      <g>\n       <use style=\"fill:#ffffff;stroke:#ffffff;stroke-width:0.8;\" x=\"185.666761\" xlink:href=\"#ma2f2df531c\" y=\"442.08\"/>\n      </g>\n     </g>\n     <g id=\"text_3\">\n      <!-- 0.0 -->\n      <g style=\"fill:#ffffff;\" transform=\"translate(177.715199 456.678437)scale(0.1 -0.1)\">\n       <use xlink:href=\"#DejaVuSans-48\"/>\n       <use x=\"63.623047\" xlink:href=\"#DejaVuSans-46\"/>\n       <use x=\"95.410156\" xlink:href=\"#DejaVuSans-48\"/>\n      </g>\n     </g>\n    </g>\n    <g id=\"xtick_4\">\n     <g id=\"line2d_7\">\n      <path clip-path=\"url(#pdee4a41451)\" d=\"M 253.303125 442.08 \nL 253.303125 7.2 \n\" style=\"fill:none;stroke:#ffffff;stroke-linecap:square;stroke-width:0.8;\"/>\n     </g>\n     <g id=\"line2d_8\">\n      <g>\n       <use style=\"fill:#ffffff;stroke:#ffffff;stroke-width:0.8;\" x=\"253.303125\" xlink:href=\"#ma2f2df531c\" y=\"442.08\"/>\n      </g>\n     </g>\n     <g id=\"text_4\">\n      <!-- 0.5 -->\n      <g style=\"fill:#ffffff;\" transform=\"translate(245.351562 456.678437)scale(0.1 -0.1)\">\n       <use xlink:href=\"#DejaVuSans-48\"/>\n       <use x=\"63.623047\" xlink:href=\"#DejaVuSans-46\"/>\n       <use x=\"95.410156\" xlink:href=\"#DejaVuSans-53\"/>\n      </g>\n     </g>\n    </g>\n    <g id=\"xtick_5\">\n     <g id=\"line2d_9\">\n      <path clip-path=\"url(#pdee4a41451)\" d=\"M 320.939489 442.08 \nL 320.939489 7.2 \n\" style=\"fill:none;stroke:#ffffff;stroke-linecap:square;stroke-width:0.8;\"/>\n     </g>\n     <g id=\"line2d_10\">\n      <g>\n       <use style=\"fill:#ffffff;stroke:#ffffff;stroke-width:0.8;\" x=\"320.939489\" xlink:href=\"#ma2f2df531c\" y=\"442.08\"/>\n      </g>\n     </g>\n     <g id=\"text_5\">\n      <!-- 1.0 -->\n      <g style=\"fill:#ffffff;\" transform=\"translate(312.987926 456.678437)scale(0.1 -0.1)\">\n       <use xlink:href=\"#DejaVuSans-49\"/>\n       <use x=\"63.623047\" xlink:href=\"#DejaVuSans-46\"/>\n       <use x=\"95.410156\" xlink:href=\"#DejaVuSans-48\"/>\n      </g>\n     </g>\n    </g>\n    <g id=\"xtick_6\">\n     <g id=\"line2d_11\">\n      <path clip-path=\"url(#pdee4a41451)\" d=\"M 388.575852 442.08 \nL 388.575852 7.2 \n\" style=\"fill:none;stroke:#ffffff;stroke-linecap:square;stroke-width:0.8;\"/>\n     </g>\n     <g id=\"line2d_12\">\n      <g>\n       <use style=\"fill:#ffffff;stroke:#ffffff;stroke-width:0.8;\" x=\"388.575852\" xlink:href=\"#ma2f2df531c\" y=\"442.08\"/>\n      </g>\n     </g>\n     <g id=\"text_6\">\n      <!-- 1.5 -->\n      <g style=\"fill:#ffffff;\" transform=\"translate(380.62429 456.678437)scale(0.1 -0.1)\">\n       <use xlink:href=\"#DejaVuSans-49\"/>\n       <use x=\"63.623047\" xlink:href=\"#DejaVuSans-46\"/>\n       <use x=\"95.410156\" xlink:href=\"#DejaVuSans-53\"/>\n      </g>\n     </g>\n    </g>\n    <g id=\"xtick_7\">\n     <g id=\"line2d_13\">\n      <path clip-path=\"url(#pdee4a41451)\" d=\"M 456.212216 442.08 \nL 456.212216 7.2 \n\" style=\"fill:none;stroke:#ffffff;stroke-linecap:square;stroke-width:0.8;\"/>\n     </g>\n     <g id=\"line2d_14\">\n      <g>\n       <use style=\"fill:#ffffff;stroke:#ffffff;stroke-width:0.8;\" x=\"456.212216\" xlink:href=\"#ma2f2df531c\" y=\"442.08\"/>\n      </g>\n     </g>\n     <g id=\"text_7\">\n      <!-- 2.0 -->\n      <g style=\"fill:#ffffff;\" transform=\"translate(448.260653 456.678437)scale(0.1 -0.1)\">\n       <defs>\n        <path d=\"M 19.1875 8.296875 \nL 53.609375 8.296875 \nL 53.609375 0 \nL 7.328125 0 \nL 7.328125 8.296875 \nQ 12.9375 14.109375 22.625 23.890625 \nQ 32.328125 33.6875 34.8125 36.53125 \nQ 39.546875 41.84375 41.421875 45.53125 \nQ 43.3125 49.21875 43.3125 52.78125 \nQ 43.3125 58.59375 39.234375 62.25 \nQ 35.15625 65.921875 28.609375 65.921875 \nQ 23.96875 65.921875 18.8125 64.3125 \nQ 13.671875 62.703125 7.8125 59.421875 \nL 7.8125 69.390625 \nQ 13.765625 71.78125 18.9375 73 \nQ 24.125 74.21875 28.421875 74.21875 \nQ 39.75 74.21875 46.484375 68.546875 \nQ 53.21875 62.890625 53.21875 53.421875 \nQ 53.21875 48.921875 51.53125 44.890625 \nQ 49.859375 40.875 45.40625 35.40625 \nQ 44.1875 33.984375 37.640625 27.21875 \nQ 31.109375 20.453125 19.1875 8.296875 \nz\n\" id=\"DejaVuSans-50\"/>\n       </defs>\n       <use xlink:href=\"#DejaVuSans-50\"/>\n       <use x=\"63.623047\" xlink:href=\"#DejaVuSans-46\"/>\n       <use x=\"95.410156\" xlink:href=\"#DejaVuSans-48\"/>\n      </g>\n     </g>\n    </g>\n   </g>\n   <g id=\"matplotlib.axis_2\">\n    <g id=\"ytick_1\">\n     <g id=\"line2d_15\">\n      <path clip-path=\"url(#pdee4a41451)\" d=\"M 30.103125 422.312727 \nL 476.503125 422.312727 \n\" style=\"fill:none;stroke:#ffffff;stroke-linecap:square;stroke-width:0.8;\"/>\n     </g>\n     <g id=\"line2d_16\">\n      <defs>\n       <path d=\"M 0 0 \nL -3.5 0 \n\" id=\"md4823ff129\" style=\"stroke:#ffffff;stroke-width:0.8;\"/>\n      </defs>\n      <g>\n       <use style=\"fill:#ffffff;stroke:#ffffff;stroke-width:0.8;\" x=\"30.103125\" xlink:href=\"#md4823ff129\" y=\"422.312727\"/>\n      </g>\n     </g>\n     <g id=\"text_8\">\n      <!-- 0.0 -->\n      <g style=\"fill:#ffffff;\" transform=\"translate(7.2 426.111946)scale(0.1 -0.1)\">\n       <use xlink:href=\"#DejaVuSans-48\"/>\n       <use x=\"63.623047\" xlink:href=\"#DejaVuSans-46\"/>\n       <use x=\"95.410156\" xlink:href=\"#DejaVuSans-48\"/>\n      </g>\n     </g>\n    </g>\n    <g id=\"ytick_2\">\n     <g id=\"line2d_17\">\n      <path clip-path=\"url(#pdee4a41451)\" d=\"M 30.103125 343.243636 \nL 476.503125 343.243636 \n\" style=\"fill:none;stroke:#ffffff;stroke-linecap:square;stroke-width:0.8;\"/>\n     </g>\n     <g id=\"line2d_18\">\n      <g>\n       <use style=\"fill:#ffffff;stroke:#ffffff;stroke-width:0.8;\" x=\"30.103125\" xlink:href=\"#md4823ff129\" y=\"343.243636\"/>\n      </g>\n     </g>\n     <g id=\"text_9\">\n      <!-- 0.2 -->\n      <g style=\"fill:#ffffff;\" transform=\"translate(7.2 347.042855)scale(0.1 -0.1)\">\n       <use xlink:href=\"#DejaVuSans-48\"/>\n       <use x=\"63.623047\" xlink:href=\"#DejaVuSans-46\"/>\n       <use x=\"95.410156\" xlink:href=\"#DejaVuSans-50\"/>\n      </g>\n     </g>\n    </g>\n    <g id=\"ytick_3\">\n     <g id=\"line2d_19\">\n      <path clip-path=\"url(#pdee4a41451)\" d=\"M 30.103125 264.174545 \nL 476.503125 264.174545 \n\" style=\"fill:none;stroke:#ffffff;stroke-linecap:square;stroke-width:0.8;\"/>\n     </g>\n     <g id=\"line2d_20\">\n      <g>\n       <use style=\"fill:#ffffff;stroke:#ffffff;stroke-width:0.8;\" x=\"30.103125\" xlink:href=\"#md4823ff129\" y=\"264.174545\"/>\n      </g>\n     </g>\n     <g id=\"text_10\">\n      <!-- 0.4 -->\n      <g style=\"fill:#ffffff;\" transform=\"translate(7.2 267.973764)scale(0.1 -0.1)\">\n       <defs>\n        <path d=\"M 37.796875 64.3125 \nL 12.890625 25.390625 \nL 37.796875 25.390625 \nz\nM 35.203125 72.90625 \nL 47.609375 72.90625 \nL 47.609375 25.390625 \nL 58.015625 25.390625 \nL 58.015625 17.1875 \nL 47.609375 17.1875 \nL 47.609375 0 \nL 37.796875 0 \nL 37.796875 17.1875 \nL 4.890625 17.1875 \nL 4.890625 26.703125 \nz\n\" id=\"DejaVuSans-52\"/>\n       </defs>\n       <use xlink:href=\"#DejaVuSans-48\"/>\n       <use x=\"63.623047\" xlink:href=\"#DejaVuSans-46\"/>\n       <use x=\"95.410156\" xlink:href=\"#DejaVuSans-52\"/>\n      </g>\n     </g>\n    </g>\n    <g id=\"ytick_4\">\n     <g id=\"line2d_21\">\n      <path clip-path=\"url(#pdee4a41451)\" d=\"M 30.103125 185.105455 \nL 476.503125 185.105455 \n\" style=\"fill:none;stroke:#ffffff;stroke-linecap:square;stroke-width:0.8;\"/>\n     </g>\n     <g id=\"line2d_22\">\n      <g>\n       <use style=\"fill:#ffffff;stroke:#ffffff;stroke-width:0.8;\" x=\"30.103125\" xlink:href=\"#md4823ff129\" y=\"185.105455\"/>\n      </g>\n     </g>\n     <g id=\"text_11\">\n      <!-- 0.6 -->\n      <g style=\"fill:#ffffff;\" transform=\"translate(7.2 188.904673)scale(0.1 -0.1)\">\n       <defs>\n        <path d=\"M 33.015625 40.375 \nQ 26.375 40.375 22.484375 35.828125 \nQ 18.609375 31.296875 18.609375 23.390625 \nQ 18.609375 15.53125 22.484375 10.953125 \nQ 26.375 6.390625 33.015625 6.390625 \nQ 39.65625 6.390625 43.53125 10.953125 \nQ 47.40625 15.53125 47.40625 23.390625 \nQ 47.40625 31.296875 43.53125 35.828125 \nQ 39.65625 40.375 33.015625 40.375 \nz\nM 52.59375 71.296875 \nL 52.59375 62.3125 \nQ 48.875 64.0625 45.09375 64.984375 \nQ 41.3125 65.921875 37.59375 65.921875 \nQ 27.828125 65.921875 22.671875 59.328125 \nQ 17.53125 52.734375 16.796875 39.40625 \nQ 19.671875 43.65625 24.015625 45.921875 \nQ 28.375 48.1875 33.59375 48.1875 \nQ 44.578125 48.1875 50.953125 41.515625 \nQ 57.328125 34.859375 57.328125 23.390625 \nQ 57.328125 12.15625 50.6875 5.359375 \nQ 44.046875 -1.421875 33.015625 -1.421875 \nQ 20.359375 -1.421875 13.671875 8.265625 \nQ 6.984375 17.96875 6.984375 36.375 \nQ 6.984375 53.65625 15.1875 63.9375 \nQ 23.390625 74.21875 37.203125 74.21875 \nQ 40.921875 74.21875 44.703125 73.484375 \nQ 48.484375 72.75 52.59375 71.296875 \nz\n\" id=\"DejaVuSans-54\"/>\n       </defs>\n       <use xlink:href=\"#DejaVuSans-48\"/>\n       <use x=\"63.623047\" xlink:href=\"#DejaVuSans-46\"/>\n       <use x=\"95.410156\" xlink:href=\"#DejaVuSans-54\"/>\n      </g>\n     </g>\n    </g>\n    <g id=\"ytick_5\">\n     <g id=\"line2d_23\">\n      <path clip-path=\"url(#pdee4a41451)\" d=\"M 30.103125 106.036364 \nL 476.503125 106.036364 \n\" style=\"fill:none;stroke:#ffffff;stroke-linecap:square;stroke-width:0.8;\"/>\n     </g>\n     <g id=\"line2d_24\">\n      <g>\n       <use style=\"fill:#ffffff;stroke:#ffffff;stroke-width:0.8;\" x=\"30.103125\" xlink:href=\"#md4823ff129\" y=\"106.036364\"/>\n      </g>\n     </g>\n     <g id=\"text_12\">\n      <!-- 0.8 -->\n      <g style=\"fill:#ffffff;\" transform=\"translate(7.2 109.835582)scale(0.1 -0.1)\">\n       <defs>\n        <path d=\"M 31.78125 34.625 \nQ 24.75 34.625 20.71875 30.859375 \nQ 16.703125 27.09375 16.703125 20.515625 \nQ 16.703125 13.921875 20.71875 10.15625 \nQ 24.75 6.390625 31.78125 6.390625 \nQ 38.8125 6.390625 42.859375 10.171875 \nQ 46.921875 13.96875 46.921875 20.515625 \nQ 46.921875 27.09375 42.890625 30.859375 \nQ 38.875 34.625 31.78125 34.625 \nz\nM 21.921875 38.8125 \nQ 15.578125 40.375 12.03125 44.71875 \nQ 8.5 49.078125 8.5 55.328125 \nQ 8.5 64.0625 14.71875 69.140625 \nQ 20.953125 74.21875 31.78125 74.21875 \nQ 42.671875 74.21875 48.875 69.140625 \nQ 55.078125 64.0625 55.078125 55.328125 \nQ 55.078125 49.078125 51.53125 44.71875 \nQ 48 40.375 41.703125 38.8125 \nQ 48.828125 37.15625 52.796875 32.3125 \nQ 56.78125 27.484375 56.78125 20.515625 \nQ 56.78125 9.90625 50.3125 4.234375 \nQ 43.84375 -1.421875 31.78125 -1.421875 \nQ 19.734375 -1.421875 13.25 4.234375 \nQ 6.78125 9.90625 6.78125 20.515625 \nQ 6.78125 27.484375 10.78125 32.3125 \nQ 14.796875 37.15625 21.921875 38.8125 \nz\nM 18.3125 54.390625 \nQ 18.3125 48.734375 21.84375 45.5625 \nQ 25.390625 42.390625 31.78125 42.390625 \nQ 38.140625 42.390625 41.71875 45.5625 \nQ 45.3125 48.734375 45.3125 54.390625 \nQ 45.3125 60.0625 41.71875 63.234375 \nQ 38.140625 66.40625 31.78125 66.40625 \nQ 25.390625 66.40625 21.84375 63.234375 \nQ 18.3125 60.0625 18.3125 54.390625 \nz\n\" id=\"DejaVuSans-56\"/>\n       </defs>\n       <use xlink:href=\"#DejaVuSans-48\"/>\n       <use x=\"63.623047\" xlink:href=\"#DejaVuSans-46\"/>\n       <use x=\"95.410156\" xlink:href=\"#DejaVuSans-56\"/>\n      </g>\n     </g>\n    </g>\n    <g id=\"ytick_6\">\n     <g id=\"line2d_25\">\n      <path clip-path=\"url(#pdee4a41451)\" d=\"M 30.103125 26.967273 \nL 476.503125 26.967273 \n\" style=\"fill:none;stroke:#ffffff;stroke-linecap:square;stroke-width:0.8;\"/>\n     </g>\n     <g id=\"line2d_26\">\n      <g>\n       <use style=\"fill:#ffffff;stroke:#ffffff;stroke-width:0.8;\" x=\"30.103125\" xlink:href=\"#md4823ff129\" y=\"26.967273\"/>\n      </g>\n     </g>\n     <g id=\"text_13\">\n      <!-- 1.0 -->\n      <g style=\"fill:#ffffff;\" transform=\"translate(7.2 30.766491)scale(0.1 -0.1)\">\n       <use xlink:href=\"#DejaVuSans-49\"/>\n       <use x=\"63.623047\" xlink:href=\"#DejaVuSans-46\"/>\n       <use x=\"95.410156\" xlink:href=\"#DejaVuSans-48\"/>\n      </g>\n     </g>\n    </g>\n   </g>\n   <g id=\"line2d_27\">\n    <path clip-path=\"url(#pdee4a41451)\" d=\"M 50.394034 422.312727 \nL 185.666761 26.967273 \n\" style=\"fill:none;stroke:#8dd3c7;stroke-linecap:square;stroke-width:1.5;\"/>\n   </g>\n   <g id=\"line2d_28\">\n    <path clip-path=\"url(#pdee4a41451)\" d=\"M 320.939489 422.312727 \nL 456.212216 26.967273 \n\" style=\"fill:none;stroke:#feffb3;stroke-linecap:square;stroke-width:1.5;\"/>\n   </g>\n   <g id=\"line2d_29\">\n    <path clip-path=\"url(#pdee4a41451)\" d=\"M 185.666761 422.312727 \nL 320.939489 26.967273 \n\" style=\"fill:none;stroke:#bfbbd9;stroke-linecap:square;stroke-width:1.5;\"/>\n   </g>\n   <g id=\"patch_3\">\n    <path d=\"M 30.103125 442.08 \nL 30.103125 7.2 \n\" style=\"fill:none;stroke:#ffffff;stroke-linecap:square;stroke-linejoin:miter;stroke-width:0.8;\"/>\n   </g>\n   <g id=\"patch_4\">\n    <path d=\"M 476.503125 442.08 \nL 476.503125 7.2 \n\" style=\"fill:none;stroke:#ffffff;stroke-linecap:square;stroke-linejoin:miter;stroke-width:0.8;\"/>\n   </g>\n   <g id=\"patch_5\">\n    <path d=\"M 30.103125 442.08 \nL 476.503125 442.08 \n\" style=\"fill:none;stroke:#ffffff;stroke-linecap:square;stroke-linejoin:miter;stroke-width:0.8;\"/>\n   </g>\n   <g id=\"patch_6\">\n    <path d=\"M 30.103125 7.2 \nL 476.503125 7.2 \n\" style=\"fill:none;stroke:#ffffff;stroke-linecap:square;stroke-linejoin:miter;stroke-width:0.8;\"/>\n   </g>\n   <g id=\"legend_1\">\n    <g id=\"patch_7\">\n     <path d=\"M 37.103125 29.878125 \nL 90.660938 29.878125 \nQ 92.660938 29.878125 92.660938 27.878125 \nL 92.660938 14.2 \nQ 92.660938 12.2 90.660938 12.2 \nL 37.103125 12.2 \nQ 35.103125 12.2 35.103125 14.2 \nL 35.103125 27.878125 \nQ 35.103125 29.878125 37.103125 29.878125 \nz\n\" style=\"opacity:0.8;stroke:#cccccc;stroke-linejoin:miter;\"/>\n    </g>\n    <g id=\"line2d_30\">\n     <path d=\"M 39.103125 20.298437 \nL 59.103125 20.298437 \n\" style=\"fill:none;stroke:#bfbbd9;stroke-linecap:square;stroke-width:1.5;\"/>\n    </g>\n    <g id=\"line2d_31\"/>\n    <g id=\"text_14\">\n     <!-- Real -->\n     <g style=\"fill:#ffffff;\" transform=\"translate(67.103125 23.798437)scale(0.1 -0.1)\">\n      <defs>\n       <path d=\"M 44.390625 34.1875 \nQ 47.5625 33.109375 50.5625 29.59375 \nQ 53.5625 26.078125 56.59375 19.921875 \nL 66.609375 0 \nL 56 0 \nL 46.6875 18.703125 \nQ 43.0625 26.03125 39.671875 28.421875 \nQ 36.28125 30.8125 30.421875 30.8125 \nL 19.671875 30.8125 \nL 19.671875 0 \nL 9.8125 0 \nL 9.8125 72.90625 \nL 32.078125 72.90625 \nQ 44.578125 72.90625 50.734375 67.671875 \nQ 56.890625 62.453125 56.890625 51.90625 \nQ 56.890625 45.015625 53.6875 40.46875 \nQ 50.484375 35.9375 44.390625 34.1875 \nz\nM 19.671875 64.796875 \nL 19.671875 38.921875 \nL 32.078125 38.921875 \nQ 39.203125 38.921875 42.84375 42.21875 \nQ 46.484375 45.515625 46.484375 51.90625 \nQ 46.484375 58.296875 42.84375 61.546875 \nQ 39.203125 64.796875 32.078125 64.796875 \nz\n\" id=\"DejaVuSans-82\"/>\n       <path d=\"M 56.203125 29.59375 \nL 56.203125 25.203125 \nL 14.890625 25.203125 \nQ 15.484375 15.921875 20.484375 11.0625 \nQ 25.484375 6.203125 34.421875 6.203125 \nQ 39.59375 6.203125 44.453125 7.46875 \nQ 49.3125 8.734375 54.109375 11.28125 \nL 54.109375 2.78125 \nQ 49.265625 0.734375 44.1875 -0.34375 \nQ 39.109375 -1.421875 33.890625 -1.421875 \nQ 20.796875 -1.421875 13.15625 6.1875 \nQ 5.515625 13.8125 5.515625 26.8125 \nQ 5.515625 40.234375 12.765625 48.109375 \nQ 20.015625 56 32.328125 56 \nQ 43.359375 56 49.78125 48.890625 \nQ 56.203125 41.796875 56.203125 29.59375 \nz\nM 47.21875 32.234375 \nQ 47.125 39.59375 43.09375 43.984375 \nQ 39.0625 48.390625 32.421875 48.390625 \nQ 24.90625 48.390625 20.390625 44.140625 \nQ 15.875 39.890625 15.1875 32.171875 \nz\n\" id=\"DejaVuSans-101\"/>\n       <path d=\"M 34.28125 27.484375 \nQ 23.390625 27.484375 19.1875 25 \nQ 14.984375 22.515625 14.984375 16.5 \nQ 14.984375 11.71875 18.140625 8.90625 \nQ 21.296875 6.109375 26.703125 6.109375 \nQ 34.1875 6.109375 38.703125 11.40625 \nQ 43.21875 16.703125 43.21875 25.484375 \nL 43.21875 27.484375 \nz\nM 52.203125 31.203125 \nL 52.203125 0 \nL 43.21875 0 \nL 43.21875 8.296875 \nQ 40.140625 3.328125 35.546875 0.953125 \nQ 30.953125 -1.421875 24.3125 -1.421875 \nQ 15.921875 -1.421875 10.953125 3.296875 \nQ 6 8.015625 6 15.921875 \nQ 6 25.140625 12.171875 29.828125 \nQ 18.359375 34.515625 30.609375 34.515625 \nL 43.21875 34.515625 \nL 43.21875 35.40625 \nQ 43.21875 41.609375 39.140625 45 \nQ 35.0625 48.390625 27.6875 48.390625 \nQ 23 48.390625 18.546875 47.265625 \nQ 14.109375 46.140625 10.015625 43.890625 \nL 10.015625 52.203125 \nQ 14.9375 54.109375 19.578125 55.046875 \nQ 24.21875 56 28.609375 56 \nQ 40.484375 56 46.34375 49.84375 \nQ 52.203125 43.703125 52.203125 31.203125 \nz\n\" id=\"DejaVuSans-97\"/>\n       <path d=\"M 9.421875 75.984375 \nL 18.40625 75.984375 \nL 18.40625 0 \nL 9.421875 0 \nz\n\" id=\"DejaVuSans-108\"/>\n      </defs>\n      <use xlink:href=\"#DejaVuSans-82\"/>\n      <use x=\"64.982422\" xlink:href=\"#DejaVuSans-101\"/>\n      <use x=\"126.505859\" xlink:href=\"#DejaVuSans-97\"/>\n      <use x=\"187.785156\" xlink:href=\"#DejaVuSans-108\"/>\n     </g>\n    </g>\n   </g>\n  </g>\n </g>\n <defs>\n  <clipPath id=\"pdee4a41451\">\n   <rect height=\"434.88\" width=\"446.4\" x=\"30.103125\" y=\"7.2\"/>\n  </clipPath>\n </defs>\n</svg>\n",
      "image/png": "[encoded data removed]"
     },
     "metadata": {}
    },
    {
     "output_type": "stream",
     "name": "stdout",
     "text": [
      "Point[-1.0000, 0.0000]|None Point[1.0000, 0.0000]|None\n"
     ]
    }
   ],
   "source": [
    "halfpi = np.pi/2\n",
    "start = Point(0, 0, deg_rad(90))\n",
    "print(start)\n",
    "end = Point(1, 1)\n",
    "width = 1\n",
    "perp = start.dirVec - halfpi\n",
    "print(perp)\n",
    "diff = Point(width * np.cos(perp), width * np.sin(perp))\n",
    "lower = Point(start.xPos - diff.xPos, start.yPos - diff.yPos)\n",
    "upper = Point(start.xPos + diff.xPos, start.yPos + diff.yPos)\n",
    "\n",
    "lower_pair = Point(end.xPos - diff.xPos, end.yPos - diff.yPos)\n",
    "upper_pair = Point(end.xPos + diff.xPos, end.yPos + diff.yPos)\n",
    "plt.figure(figsize = (8, 8))\n",
    "plt.plot([lower.xPos, lower_pair.xPos], [lower.yPos, lower_pair.yPos])\n",
    "plt.plot([upper.xPos, upper_pair.xPos], [upper.yPos, upper_pair.yPos])\n",
    "plt.plot([start.xPos, end.xPos], [start.yPos, end.yPos], label = 'Real')\n",
    "plt.legend()\n",
    "plt.grid()\n",
    "plt.show()\n",
    "print(lower, upper)\n",
    "\n",
    "\n"
   ]
  },
  {
   "cell_type": "code",
   "execution_count": null,
   "metadata": {},
   "outputs": [],
   "source": []
  },
  {
   "cell_type": "code",
   "execution_count": 1,
   "metadata": {},
   "outputs": [
    {
     "output_type": "execute_result",
     "data": {
      "text/plain": [
       "False"
      ]
     },
     "metadata": {},
     "execution_count": 1
    }
   ],
   "source": [
    "a = ''\n",
    "a or False"
   ]
  },
  {
   "cell_type": "code",
   "execution_count": 4,
   "metadata": {},
   "outputs": [
    {
     "output_type": "stream",
     "name": "stdout",
     "text": [
      "1\n"
     ]
    },
    {
     "output_type": "execute_result",
     "data": {
      "text/plain": [
       "1"
      ]
     },
     "metadata": {},
     "execution_count": 4
    }
   ],
   "source": [
    "class a:\n",
    "    def __init__(self):\n",
    "        self.points = 1\n",
    "\n",
    "class b(a):\n",
    "    def __init__(self):\n",
    "        super().__init__()\n",
    "        print(self.points)\n",
    "first = b()\n",
    "first.points"
   ]
  },
  {
   "cell_type": "code",
   "execution_count": 8,
   "metadata": {},
   "outputs": [
    {
     "output_type": "stream",
     "name": "stderr",
     "text": [
      "<ipython-input-8-e3ee0c48ed45>:2: RuntimeWarning: divide by zero encountered in true_divide\n  5 * np.divide(-1, 0)\n"
     ]
    },
    {
     "output_type": "execute_result",
     "data": {
      "text/plain": [
       "-inf"
      ]
     },
     "metadata": {},
     "execution_count": 8
    }
   ],
   "source": [
    "import numpy as np\n",
    "5 * np.divide(-1, 0)"
   ]
  },
  {
   "cell_type": "code",
   "execution_count": 45,
   "metadata": {},
   "outputs": [],
   "source": [
    "import numpy as np\n",
    "import matplotlib.pyplot as plt"
   ]
  },
  {
   "cell_type": "code",
   "execution_count": 46,
   "metadata": {},
   "outputs": [],
   "source": [
    "class Point:\n",
    "    '''\n",
    "    API used for reference points in track elements\n",
    "    Standard --- Angle Radian System\n",
    "    '''\n",
    "    def __init__(self, xPos, yPos, dir = None) -> None: \n",
    "        self.xPos = xPos\n",
    "        self.yPos = yPos\n",
    "\n",
    "        self.dirVec = dir #Directional vector of movement & following track creation\n",
    "\n",
    "\n",
    "    def angle(self, other):\n",
    "        '''\n",
    "        Common format to return in Radians\n",
    "        '''\n",
    "        d = np.inf\n",
    "        if other.xPos - self.xPos != 0:\n",
    "            d = np.divide(other.yPos - self.yPos, other.xPos - self.xPos)\n",
    "        angle = np.arctan(d) \n",
    "    \n",
    "        if (angle < 0 and self.yPos < other.yPos):\n",
    "            angle += np.pi #Negative angles in quadrant 4 to quadrant 2\n",
    "        \n",
    "        elif d == np.inf and self.yPos > other.yPos:\n",
    "            angle = -np.pi/2 #90 degrees to 270 degrees\n",
    "\n",
    "        elif angle > 0 and self.yPos > other.yPos:\n",
    "            angle = - np.pi + angle #Positive angles in quadrant 1 to quadrant 3\n",
    "        \n",
    "        elif angle == 0 and self.xPos > other.xPos:\n",
    "            angle = np.pi\n",
    "        \n",
    "    \n",
    "        return angle\n",
    "\n",
    "    \n",
    "    def distance(self, other):\n",
    "        '''\n",
    "        Returns distance to another point\n",
    "        '''\n",
    "        delt_y = np.power(other.yPos - self.yPos, 2)\n",
    "        delt_x = np.power(other.xPos - self.xPos, 2)\n",
    "        to_return = np.sqrt(delt_x + delt_y)\n",
    "        return to_return\n",
    "    \n",
    "    def gradient(self, other):\n",
    "        '''\n",
    "        Returns gradient\n",
    "        '''\n",
    "        val = np.divide(self.yPos - other.yPos, self.xPos - other.xPos)\n",
    "        return val\n",
    "    \n",
    "    def givePos(self):\n",
    "        return [self.xPos, self.yPos]\n",
    "    \n",
    "    def __str__(self):\n",
    "        return 'Point[{0:4.4f}, {1:4.4f}]|'.format(self.xPos, self.yPos) + str(self.dirVec)\n",
    "    \n",
    "    def __repr__(self):\n",
    "        return 'Point[{0:4.4f}, {1:4.4f}]|'.format(self.xPos, self.yPos) + str(self.dirVec)"
   ]
  },
  {
   "cell_type": "code",
   "execution_count": 56,
   "metadata": {},
   "outputs": [],
   "source": [
    "class math_func:\n",
    "    def __init__(self, points, line_bool, args = True):\n",
    "        '''\n",
    "        A revised Function that class that can produce various aspects of the enclosed function when needed\n",
    "        Catered towards three different types of functions:\n",
    "        -Linear Functions with usable gradient\n",
    "        -Vertical lines\n",
    "        -Circular functions\n",
    "\n",
    "        If line function: \n",
    "        points gives [x1, y1, x2, y2]\n",
    "\n",
    "        if circ function:\n",
    "        points gives [anchorPoint, radius, startPhi, endPhi]\n",
    "        '''\n",
    "        self.points = points\n",
    "        self.line_bool = line_bool\n",
    "        self.args = args\n",
    "        if line_bool:\n",
    "            if self.points[0] == self.points[2]:\n",
    "                self.grad = np.inf\n",
    "                self.lims = [self.points[0], self.points[0]]\n",
    "                self.func = self.vert_func #Make the vertical function\n",
    "            else:\n",
    "                self.grad = loc_gradient(*self.points) #Make the regular function\n",
    "                self.lims = [self.points[0], self.points[2]]\n",
    "                self.lims.sort() #Could be the opposite way\n",
    "                print(self.lims)\n",
    "\n",
    "                self.func = self.line_func\n",
    "                \n",
    "        else:\n",
    "            self.angle_range = [rad_reduce(self.points[2]), rad_reduce(self.points[3])]\n",
    "            self.angle_range.sort()\n",
    "            \n",
    "\n",
    "            if args:\n",
    "                assert self.angle_range[0] >= 0, \"Circle angles need to be of same semicircle type\"\n",
    "            else:\n",
    "                assert self.angle_range[1] <= 0, \"Circle angles need to be of same semicircle type\"\n",
    "            self.lims = self.det_circ_range()\n",
    "            self.func = self.circ_func\n",
    "\n",
    "    def find_overlap(self, other):\n",
    "        '''\n",
    "        Finds an overlap in the ranges of two functions\n",
    "        Returns success boolean, [min_x, max_x]\n",
    "        if failed, -- False, None\n",
    "        '''\n",
    "        other_lims = other.lims\n",
    "        use_range = [max(self.lims[0], other_lims[0]), min(self.lims[1], other_lims[1])]\n",
    "        if use_range[0] > use_range[1]:\n",
    "            return False, None\n",
    "        else:\n",
    "            return True, use_range\n",
    "            print (use_range)\n",
    "\n",
    "    def det_circ_range(self):\n",
    "        '''\n",
    "        Determining the exact x range for the function\n",
    "        At this point, we have hte max and min angle and the hemisphere-confirmed angles\n",
    "        Idea for interpretation here -- all values will lie only between the max and min angle, nothing beyond\n",
    "        since this angle range does not cross the semicircle border\n",
    "        Given points element dictionary here\n",
    "        0 - anchorPoint\n",
    "        1 - radius\n",
    "        2 - StartPhi\n",
    "        3 - endPhi\n",
    "        '''\n",
    "        pot = [self.points[0].xPos + (self.points[1] * np.cos(a)) for a in self.lims]\n",
    "        pot.sort()\n",
    "        return pot\n",
    "\n",
    "    \n",
    "    def circ_func(self, x):\n",
    "        '''\n",
    "        The Circle function\n",
    "        Given points element dictionary here\n",
    "        0 - anchorPoint\n",
    "        1 - radius\n",
    "        2 - StartPhi\n",
    "        3 - endPhi\n",
    "        '''\n",
    "        if x < self.lims[0] or x > self.lims[1]:\n",
    "            return np.NaN\n",
    "        \n",
    "        val = self.points[1]**2 - np.power(x - self.points[0].xPos, 2)        \n",
    "        val = np.sqrt(val)\n",
    "        if not self.args:\n",
    "            val = - val\n",
    "        y = val + anchor.yPos\n",
    "        return y\n",
    "        \n",
    "\n",
    "    def line_func(self, x):\n",
    "        '''\n",
    "        The regular linear function\n",
    "        Assumes points is comprised of startt and end points:\n",
    "        [x1, y1, x2, y2]\n",
    "        '''\n",
    "        if x < self.lims[0] or x > self.lims[1]:\n",
    "            return np.NaN\n",
    "        delt_y = x - self.points[0]\n",
    "        delt_y = delt_y * self.grad\n",
    "        return delt_y + self.points[1]\n",
    "\n",
    "\n",
    "    def vert_func(self, x, other_y):\n",
    "        '''\n",
    "        The vertical line function\n",
    "        '''\n",
    "        assert x == self.points[0]\n",
    "\n",
    "        if self.points[1] <= other_y <= self.points[3]:\n",
    "            return other_y\n",
    "        else:\n",
    "            return np.NaN\n",
    "    '''\n",
    "    Comparison functions below\n",
    "    Needed to incorporate the np.NaN thing\n",
    "    All functions used are singularly piecewise. If they start at a given point and end, they don't restart somewhere\n",
    "    If f(x1) exists and f(x2) does not, the upper lim lies between both. Since we know the upper and lower lims, we don't need to ever run\n",
    "    an np.NaN-returning function (when executed correctly)\n",
    "    '''\n",
    "    def deriv(self, x, step):\n",
    "        '''\n",
    "        Gives the function's derivative at a particular point\n",
    "        '''\n",
    "        if self.line_bool == True:\n",
    "            return self.grad\n",
    "        \n",
    "        if not exists(self.func(x)) or not exists(self.func(x - step)):\n",
    "            return np.NaN\n",
    "        else:\n",
    "            return np.divide(self.func(x) - self.func(x - step), step)\n",
    "\n",
    "    def diff(self, x, other):\n",
    "        '''\n",
    "        Gives the difference between two functions\n",
    "        '''\n",
    "        if not exists(self.func(x)) or not exists(other.func(x)):\n",
    "            return np.NaN\n",
    "        else:\n",
    "            return np.sqrt(np.power(self.func(x) - other.func(x),2))\n",
    "    \n",
    "    def is_converging(self, x, other, step):\n",
    "        '''\n",
    "        Same is_converging function, but here with np.NaN support\n",
    "        '''\n",
    "        if not exists(self.func(x)) or not exists(other.func(x)) or not exists(self.func(x - step)) or not exists(other.func(x - step)):\n",
    "            return False\n",
    "       \n",
    "        elif self.func(x) < other.func(x):\n",
    "            return self.deriv(x, step) > other.deriv(x, step)\n",
    "        elif self.func(x) > other.func(x):\n",
    "            return self.deriv(x, step) < other.deriv(x, step)\n",
    "        else: #Solution is found\n",
    "            return True\n",
    "\n",
    "    def did_converge(self, x, other, step):\n",
    "        '''\n",
    "        could_coverge, but with np.NaN support\n",
    "        '''\n",
    "        \n",
    "        start = self.func(x - step) < other.func(x - step)\n",
    "        end = self.func(x) < other.func(x)\n",
    "\n",
    "        return start ^ end\n",
    "    "
   ]
  },
  {
   "cell_type": "code",
   "execution_count": 57,
   "metadata": {},
   "outputs": [],
   "source": [
    "def loc_gradient(x1, y1, x2, y2):\n",
    "    '''\n",
    "    Returns gradient\n",
    "    '''\n",
    "    val = np.divide(y1 - y2, x1 - x2)\n",
    "    return val\n",
    "\n",
    "exists = lambda x: x >= -np.inf\n",
    "\n",
    "\n"
   ]
  },
  {
   "cell_type": "code",
   "execution_count": 66,
   "metadata": {},
   "outputs": [],
   "source": [
    "def systemsolve(f_obj, g_obj, e = 1e-4, step = 0.2, conten_divis = 30, count = 3):\n",
    "    '''\n",
    "    This is the potential candidate for funcsolve's successor\n",
    "    The plans for change are to expedite the range and elimination check\n",
    "    count - flagpoint for the recursive check, when end when reachedd 0\n",
    "    '''\n",
    "\n",
    "    success, lims = f_obj.find_overlap(g_obj)\n",
    "    if not success:\n",
    "        return False, None\n",
    "    \n",
    "    if lims[0] == lims[1]:\n",
    "        if f_obj.func(lims[0]) == g_obj.func(lims[0]):\n",
    "            return True, lims[0]\n",
    "\n",
    "        else:\n",
    "            return False, None\n",
    "        #Do the y check and the value\n",
    "\n",
    "    new_step = np.divide(lims[1] - lims[0], conten_divis)\n",
    "    step = min(step, new_step) #Take the one that's more suited to the range \n",
    "    #0.2 does not fit small ranges, like 0.9\n",
    "\n",
    "    x = lims[0]\n",
    "    prev_con = True\n",
    "    \n",
    "    run = True\n",
    "    while run:\n",
    "        if exists(f_obj.func(x)) and exists(g_obj.func(x)) and exists(f_obj.func(x - step) and exists (g_obj.func(x - step))):\n",
    "\n",
    "\n",
    "            if x > lims[1]:\n",
    "                x = lims[1]\n",
    "                print (x)\n",
    "                run = False\n",
    "            \n",
    "            if f_obj.diff(x, g_obj) <= e:\n",
    "                return True, x\n",
    "            curr_con = f_obj.is_converging(x, g_obj, step)\n",
    "            '''\n",
    "            Do not need to confirm if both functions exist in the range\n",
    "            '''\n",
    "            if prev_con and not curr_con:\n",
    "                if f_obj.did_converge(x, g_obj, step) and count > 0:\n",
    "                    return systemsolve(f_obj, g_obj, step = np.divide(step,10), count = count -1)\n",
    "            prev_con = curr_con\n",
    "        x += step\n",
    "    return False, x - step\n",
    "     \n",
    "            \n",
    "        \n",
    "\n"
   ]
  },
  {
   "cell_type": "code",
   "execution_count": 67,
   "metadata": {},
   "outputs": [
    {
     "output_type": "stream",
     "name": "stdout",
     "text": [
      "[3, 8]\n[4, 7]\n"
     ]
    }
   ],
   "source": [
    "pts = [3, 6, 8, 12]\n",
    "pts2 = [4, 5, 7, 9]\n",
    "\n",
    "test1 = math_func(pts, line_bool = True)\n",
    "\n",
    "test2 = math_func(pts2, line_bool = True)\n",
    "\n"
   ]
  },
  {
   "cell_type": "code",
   "execution_count": 68,
   "metadata": {},
   "outputs": [
    {
     "output_type": "execute_result",
     "data": {
      "text/plain": [
       "(True, [4, 7])"
      ]
     },
     "metadata": {},
     "execution_count": 68
    }
   ],
   "source": [
    "test1.find_overlap(test2)"
   ]
  },
  {
   "cell_type": "code",
   "execution_count": null,
   "metadata": {},
   "outputs": [],
   "source": []
  }
 ],
 "metadata": {
  "kernelspec": {
   "name": "python391jvsc74a57bd038740d3277777e2cd7c6c2cc9d8addf5118fdf3f82b1b39231fd12aeac8aee8b",
   "display_name": "Python 3.9.1 64-bit"
  },
  "language_info": {
   "codemirror_mode": {
    "name": "ipython",
    "version": 3
   },
   "file_extension": ".py",
   "mimetype": "text/x-python",
   "name": "python",
   "nbconvert_exporter": "python",
   "pygments_lexer": "ipython3",
   "version": "3.9.1"
  },
  "metadata": {
   "interpreter": {
    "hash": "38740d3277777e2cd7c6c2cc9d8addf5118fdf3f82b1b39231fd12aeac8aee8b"
   }
  }
 },
 "nbformat": 4,
 "nbformat_minor": 4
}